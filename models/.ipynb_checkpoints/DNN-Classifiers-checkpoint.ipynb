{
 "cells": [
  {
   "cell_type": "markdown",
   "metadata": {},
   "source": [
    "# DNN Classifiers"
   ]
  },
  {
   "cell_type": "code",
   "execution_count": 1,
   "metadata": {},
   "outputs": [
    {
     "name": "stderr",
     "output_type": "stream",
     "text": [
      "Using TensorFlow backend.\n"
     ]
    }
   ],
   "source": [
    "import pickle\n",
    "import numpy as np\n",
    "import pandas as pd\n",
    "import scikitplot as skplt\n",
    "import matplotlib.pyplot as plt\n",
    "from sklearn.linear_model import SGDClassifier\n",
    "from sklearn.model_selection import train_test_split\n",
    "from sklearn.feature_extraction.text import CountVectorizer\n",
    "from sklearn.feature_extraction.text import TfidfTransformer\n",
    "from sklearn.feature_extraction import stop_words\n",
    "from keras.preprocessing.text import Tokenizer\n",
    "from sklearn.preprocessing import LabelEncoder\n",
    "from sklearn import metrics\n",
    "\n",
    "# Keras\n",
    "import tensorflow as tf\n",
    "import tensorflow_hub as hub\n",
    "import tensorflow_datasets as tfds\n",
    "from tensorflow.estimator import DNNClassifier\n",
    "from tensorflow.keras.preprocessing.text import Tokenizer, one_hot\n",
    "from tensorflow.keras.preprocessing.sequence import pad_sequences\n",
    "from tensorflow.keras.models import Sequential\n",
    "from tensorflow.keras.layers import Activation, Dense, Dropout, Embedding, Flatten, Conv1D, MaxPooling1D, LSTM\n",
    "from tensorflow.keras import utils\n",
    "from tensorflow.keras.callbacks import ReduceLROnPlateau, EarlyStopping"
   ]
  },
  {
   "cell_type": "markdown",
   "metadata": {},
   "source": [
    "### Load data"
   ]
  },
  {
   "cell_type": "code",
   "execution_count": 2,
   "metadata": {},
   "outputs": [
    {
     "data": {
      "text/html": [
       "<div>\n",
       "<style scoped>\n",
       "    .dataframe tbody tr th:only-of-type {\n",
       "        vertical-align: middle;\n",
       "    }\n",
       "\n",
       "    .dataframe tbody tr th {\n",
       "        vertical-align: top;\n",
       "    }\n",
       "\n",
       "    .dataframe thead th {\n",
       "        text-align: right;\n",
       "    }\n",
       "</style>\n",
       "<table border=\"1\" class=\"dataframe\">\n",
       "  <thead>\n",
       "    <tr style=\"text-align: right;\">\n",
       "      <th></th>\n",
       "      <th>target</th>\n",
       "      <th>text</th>\n",
       "    </tr>\n",
       "  </thead>\n",
       "  <tbody>\n",
       "    <tr>\n",
       "      <th>0</th>\n",
       "      <td>0</td>\n",
       "      <td>@Starrbby too bad I won't be around I lost my ...</td>\n",
       "    </tr>\n",
       "    <tr>\n",
       "      <th>1</th>\n",
       "      <td>0</td>\n",
       "      <td>amazon s3 plugin not worked in my website . it...</td>\n",
       "    </tr>\n",
       "    <tr>\n",
       "      <th>2</th>\n",
       "      <td>0</td>\n",
       "      <td>The Hoyts Distribution NZ website isn't workin...</td>\n",
       "    </tr>\n",
       "    <tr>\n",
       "      <th>3</th>\n",
       "      <td>0</td>\n",
       "      <td>dang won't be able to get to any workshops run...</td>\n",
       "    </tr>\n",
       "    <tr>\n",
       "      <th>4</th>\n",
       "      <td>0</td>\n",
       "      <td>Tried to install a Twitter-application on my p...</td>\n",
       "    </tr>\n",
       "  </tbody>\n",
       "</table>\n",
       "</div>"
      ],
      "text/plain": [
       "   target                                               text\n",
       "0       0  @Starrbby too bad I won't be around I lost my ...\n",
       "1       0  amazon s3 plugin not worked in my website . it...\n",
       "2       0  The Hoyts Distribution NZ website isn't workin...\n",
       "3       0  dang won't be able to get to any workshops run...\n",
       "4       0  Tried to install a Twitter-application on my p..."
      ]
     },
     "execution_count": 2,
     "metadata": {},
     "output_type": "execute_result"
    }
   ],
   "source": [
    "df = pd.read_csv(\"../data/mixed_data_1200.csv\", sep=';')\n",
    "df = df.drop([\"Unnamed: 0\"],axis=1)\n",
    "df.head(5)"
   ]
  },
  {
   "cell_type": "code",
   "execution_count": 3,
   "metadata": {},
   "outputs": [],
   "source": [
    "df.head(5)\n",
    "#converts whitespaces\n",
    "trb_nan_idx = df[pd.isnull(df['text'])].index.tolist()\n",
    "df.loc[trb_nan_idx, 'text'] = ' '\n",
    "X_load = df[\"text\"]\n",
    "Y_load = df[\"target\"]\n",
    "\n",
    "#0 = negative, 2 = neutral, 4 = positive\n",
    "dicc = {0:0,2:1,4:2}\n",
    "Y_load = Y_load.map(dicc)"
   ]
  },
  {
   "cell_type": "markdown",
   "metadata": {},
   "source": [
    "### Split data into train/test set"
   ]
  },
  {
   "cell_type": "code",
   "execution_count": 4,
   "metadata": {},
   "outputs": [],
   "source": [
    "X_traink ,X_testk, y_traink, y_testk = train_test_split(X_load,Y_load,test_size=0.2,random_state=42,shuffle=True)\n",
    "y_test = y_testk"
   ]
  },
  {
   "cell_type": "markdown",
   "metadata": {},
   "source": [
    "### Tokenize data"
   ]
  },
  {
   "cell_type": "code",
   "execution_count": 5,
   "metadata": {},
   "outputs": [],
   "source": [
    "tokenizer = Tokenizer(lower=True,filters = \"!\\\"#$%&()*+,-./:;<=>?@[\\\\]^_`{|}~\\t\\n\", split = \" \")\n",
    "tokenizer.fit_on_texts(X_traink)"
   ]
  },
  {
   "cell_type": "code",
   "execution_count": 6,
   "metadata": {},
   "outputs": [],
   "source": [
    "#observe tokenizer properties\n",
    "#print(tokenizer.word_counts) #word_counts: A dictionary of words and their counts.\n",
    "#print(tokenizer.document_count) #document_count:An integer count of the total number of documents that were used to fit the Tokenizer.\n",
    "#print(tokenizer.word_index) #word_index: A dictionary of words and their uniquely assigned integers.\n",
    "#print(tokenizer.word_docs) #word_docs: A dictionary of words and how many documents each appeared in."
   ]
  },
  {
   "cell_type": "markdown",
   "metadata": {},
   "source": [
    "## Preliminary inspection of the data "
   ]
  },
  {
   "cell_type": "code",
   "execution_count": 7,
   "metadata": {},
   "outputs": [],
   "source": [
    "# run only once\n",
    "X_traink = tokenizer.texts_to_sequences(X_traink)\n",
    "X_testk = tokenizer.texts_to_sequences(X_testk)"
   ]
  },
  {
   "cell_type": "code",
   "execution_count": 8,
   "metadata": {},
   "outputs": [
    {
     "name": "stdout",
     "output_type": "stream",
     "text": [
      "The average tweet length is 12.096299093655588 and the median is 11 \n"
     ]
    }
   ],
   "source": [
    "#average tweet length\n",
    "average_length = np.mean([len(x) for x in X_traink])\n",
    "#median tweet length\n",
    "median_length = sorted([len(x) for x in X_traink])[len(X_traink) // 2]\n",
    "print('The average tweet length is {} and the median is {} '.format(average_length,median_length))"
   ]
  },
  {
   "cell_type": "markdown",
   "metadata": {},
   "source": [
    "## Pedding"
   ]
  },
  {
   "cell_type": "code",
   "execution_count": 9,
   "metadata": {},
   "outputs": [],
   "source": [
    "max_sequence_length = 80\n",
    "X_traink = pad_sequences(X_traink,maxlen=max_sequence_length,padding=\"post\", truncating='post',dtype='int32',value=0.)\n",
    "X_testk = pad_sequences(X_testk,maxlen=max_sequence_length,padding=\"post\", truncating='post',dtype='int32',value=0.)"
   ]
  },
  {
   "cell_type": "code",
   "execution_count": 26,
   "metadata": {},
   "outputs": [
    {
     "data": {
      "text/plain": [
       "(2648, 80)"
      ]
     },
     "execution_count": 26,
     "metadata": {},
     "output_type": "execute_result"
    }
   ],
   "source": [
    "X_traink.shape"
   ]
  },
  {
   "cell_type": "code",
   "execution_count": 10,
   "metadata": {},
   "outputs": [
    {
     "name": "stdout",
     "output_type": "stream",
     "text": [
      "[[  43   52  174 ...    0    0    0]\n",
      " [   4   32  101 ...    0    0    0]\n",
      " [ 151   13    2 ...    0    0    0]\n",
      " ...\n",
      " [   5  334  149 ...    0    0    0]\n",
      " [6384  175   46 ...    0    0    0]\n",
      " [ 354  666   12 ...    0    0    0]]\n"
     ]
    }
   ],
   "source": [
    "print(X_traink)"
   ]
  },
  {
   "cell_type": "markdown",
   "metadata": {},
   "source": [
    "### Convert Data to fit for softmax activation function"
   ]
  },
  {
   "cell_type": "code",
   "execution_count": 11,
   "metadata": {},
   "outputs": [
    {
     "name": "stdout",
     "output_type": "stream",
     "text": [
      "3\n"
     ]
    }
   ],
   "source": [
    "num_classes = max(y_traink+1)\n",
    "print(num_classes)\n",
    "y_traink = tf.keras.utils.to_categorical(y_traink,num_classes=3)\n",
    "y_testk = tf.keras.utils.to_categorical(y_testk,num_classes=3)"
   ]
  },
  {
   "cell_type": "markdown",
   "metadata": {},
   "source": [
    "### First DNN"
   ]
  },
  {
   "cell_type": "code",
   "execution_count": 34,
   "metadata": {},
   "outputs": [],
   "source": [
    "max_words = 6465\n",
    "hidden_size = 5\n",
    "epochs = 10\n",
    "batch_size = 10\n",
    "\n",
    "model1 = Sequential()\n",
    "model1.add(Embedding(max_words, hidden_size))\n",
    "model1.add(LSTM(hidden_size, activation='relu', dropout=0.4, recurrent_dropout=0.4))\n",
    "model1.add(Dense(3, activation='softmax'))\n",
    "model1.compile(optimizer='adam', loss='categorical_crossentropy', metrics=['accuracy'])"
   ]
  },
  {
   "cell_type": "code",
   "execution_count": 35,
   "metadata": {},
   "outputs": [
    {
     "name": "stdout",
     "output_type": "stream",
     "text": [
      "Train on 2383 samples, validate on 265 samples\n",
      "Epoch 1/10\n",
      "2383/2383 [==============================] - 5s 2ms/sample - loss: 1.0980 - accuracy: 0.3504 - val_loss: 1.0977 - val_accuracy: 0.3283\n",
      "Epoch 2/10\n",
      "2383/2383 [==============================] - 3s 1ms/sample - loss: 1.0974 - accuracy: 0.3512 - val_loss: 1.0977 - val_accuracy: 0.3283\n",
      "Epoch 3/10\n",
      "2383/2383 [==============================] - 4s 2ms/sample - loss: 1.0978 - accuracy: 0.3470 - val_loss: 1.0976 - val_accuracy: 0.3283\n",
      "Epoch 4/10\n",
      "2383/2383 [==============================] - 4s 2ms/sample - loss: 1.0972 - accuracy: 0.3382 - val_loss: 1.0976 - val_accuracy: 0.3283\n",
      "Epoch 5/10\n",
      "2383/2383 [==============================] - 3s 1ms/sample - loss: 1.0970 - accuracy: 0.3512 - val_loss: 1.0977 - val_accuracy: 0.3283\n",
      "Epoch 6/10\n",
      "2383/2383 [==============================] - 3s 1ms/sample - loss: 1.0970 - accuracy: 0.3512 - val_loss: 1.0977 - val_accuracy: 0.3283\n",
      "Epoch 7/10\n",
      "2383/2383 [==============================] - 4s 2ms/sample - loss: 1.0975 - accuracy: 0.3512 - val_loss: 1.0978 - val_accuracy: 0.3283\n",
      "Epoch 8/10\n",
      "2383/2383 [==============================] - 4s 2ms/sample - loss: 1.0971 - accuracy: 0.3512 - val_loss: 1.0978 - val_accuracy: 0.3283\n",
      "Epoch 9/10\n",
      "2383/2383 [==============================] - 4s 2ms/sample - loss: 1.0973 - accuracy: 0.3512 - val_loss: 1.0979 - val_accuracy: 0.3283\n",
      "Epoch 10/10\n",
      "2383/2383 [==============================] - 5s 2ms/sample - loss: 1.0973 - accuracy: 0.3512 - val_loss: 1.0979 - val_accuracy: 0.3283\n"
     ]
    }
   ],
   "source": [
    "history0 = model1.fit(X_traink, y_traink, epochs=epochs, shuffle=True,validation_split=0.1)"
   ]
  },
  {
   "cell_type": "code",
   "execution_count": 31,
   "metadata": {},
   "outputs": [
    {
     "name": "stdout",
     "output_type": "stream",
     "text": [
      "662/662 [==============================] - 1s 1ms/sample - loss: 1.0935 - accuracy: 0.3912\n",
      "Single layer model -- ACC 0.39123865962028503 -- LOSS 1.0935175055103359\n"
     ]
    }
   ],
   "source": [
    "loss, acc = model1.evaluate(X_testk, y_testk)\n",
    "print('Single layer model -- ACC {} -- LOSS {}'.format(acc, loss))"
   ]
  },
  {
   "cell_type": "markdown",
   "metadata": {},
   "source": [
    "### Secound DNN"
   ]
  },
  {
   "cell_type": "code",
   "execution_count": 36,
   "metadata": {
    "scrolled": true
   },
   "outputs": [],
   "source": [
    "max_words = 6465\n",
    "hidden_size = 20\n",
    "epochs = 10\n",
    "batch_size = 10\n",
    "\n",
    "model2 = Sequential()\n",
    "model2.add(Embedding(max_words, hidden_size))\n",
    "model2.add(LSTM(hidden_size, activation='relu', dropout=0.4, recurrent_dropout=0.2, return_sequences=True))\n",
    "model2.add(LSTM(hidden_size, activation='relu', dropout=0.4, recurrent_dropout=0.2))\n",
    "model2.add(Dense(3, activation='softmax'))\n",
    "model2.compile(optimizer='adam', loss='categorical_crossentropy', metrics=['accuracy'])"
   ]
  },
  {
   "cell_type": "code",
   "execution_count": 37,
   "metadata": {},
   "outputs": [
    {
     "name": "stdout",
     "output_type": "stream",
     "text": [
      "Train on 2383 samples, validate on 265 samples\n",
      "Epoch 1/10\n",
      "2383/2383 [==============================] - 12s 5ms/sample - loss: 1.0979 - accuracy: 0.3538 - val_loss: 1.0978 - val_accuracy: 0.3283\n",
      "Epoch 2/10\n",
      "2383/2383 [==============================] - 9s 4ms/sample - loss: 1.0973 - accuracy: 0.3340 - val_loss: 1.0973 - val_accuracy: 0.3283\n",
      "Epoch 3/10\n",
      "2383/2383 [==============================] - 7s 3ms/sample - loss: 1.0980 - accuracy: 0.3487 - val_loss: 1.0983 - val_accuracy: 0.3283\n",
      "Epoch 4/10\n",
      "2383/2383 [==============================] - 7s 3ms/sample - loss: 1.0975 - accuracy: 0.3496 - val_loss: 1.0976 - val_accuracy: 0.3283\n",
      "Epoch 5/10\n",
      "2383/2383 [==============================] - 7s 3ms/sample - loss: 1.0973 - accuracy: 0.3491 - val_loss: 1.0982 - val_accuracy: 0.3283\n",
      "Epoch 6/10\n",
      "2383/2383 [==============================] - 7s 3ms/sample - loss: 1.0968 - accuracy: 0.3433 - val_loss: 1.0981 - val_accuracy: 0.3283\n",
      "Epoch 7/10\n",
      "2383/2383 [==============================] - 7s 3ms/sample - loss: 1.0977 - accuracy: 0.3529 - val_loss: 1.0984 - val_accuracy: 0.3283\n",
      "Epoch 8/10\n",
      "2383/2383 [==============================] - 7s 3ms/sample - loss: 1.0975 - accuracy: 0.3487 - val_loss: 1.0979 - val_accuracy: 0.3283\n",
      "Epoch 9/10\n",
      "2383/2383 [==============================] - 9s 4ms/sample - loss: 1.0974 - accuracy: 0.3496 - val_loss: 1.0983 - val_accuracy: 0.3283\n",
      "Epoch 10/10\n",
      "2383/2383 [==============================] - 6s 3ms/sample - loss: 1.0970 - accuracy: 0.3538 - val_loss: 1.0975 - val_accuracy: 0.3283\n"
     ]
    }
   ],
   "source": [
    "history2 = model2.fit(X_traink, y_traink, epochs=epochs, shuffle=True, validation_split=0.1)"
   ]
  },
  {
   "cell_type": "code",
   "execution_count": 38,
   "metadata": {},
   "outputs": [
    {
     "name": "stdout",
     "output_type": "stream",
     "text": [
      "662/662 [==============================] - 1s 2ms/sample - loss: 1.0945 - accuracy: 0.3912\n",
      "Single layer model -- ACC 0.39123865962028503 -- LOSS 1.0945005434877564\n"
     ]
    }
   ],
   "source": [
    "loss, acc = model2.evaluate(X_testk, y_testk)\n",
    "print('Single layer model -- ACC {} -- LOSS {}'.format(acc, loss))"
   ]
  },
  {
   "cell_type": "markdown",
   "metadata": {},
   "source": [
    "### Predict\n",
    "use the unlabled data"
   ]
  },
  {
   "cell_type": "code",
   "execution_count": 39,
   "metadata": {},
   "outputs": [
    {
     "data": {
      "text/plain": [
       "array([0])"
      ]
     },
     "execution_count": 39,
     "metadata": {},
     "output_type": "execute_result"
    }
   ],
   "source": [
    "xxx = [\"Today my PC crashed what a shit I can not work I am so stressed\"]\n",
    "xxx1 = tokenizer.texts_to_sequences(xxx)\n",
    "xxx2 = pad_sequences(xxx1,maxlen=max_sequence_length,padding=\"post\", truncating='post',dtype='int32',value=0.)\n",
    "pred = model2.predict_classes(xxx2)\n",
    "pred"
   ]
  },
  {
   "cell_type": "code",
   "execution_count": 40,
   "metadata": {},
   "outputs": [
    {
     "data": {
      "text/plain": [
       "(662,)"
      ]
     },
     "execution_count": 40,
     "metadata": {},
     "output_type": "execute_result"
    }
   ],
   "source": [
    "#predict crisp classes for test set\n",
    "predictions1 = model1.predict_classes(X_testk, verbose=0)\n",
    "predictions1_probs = model1.predict(X_testk, verbose=0)\n",
    "predictions1.shape"
   ]
  },
  {
   "cell_type": "code",
   "execution_count": 41,
   "metadata": {},
   "outputs": [
    {
     "data": {
      "text/plain": [
       "(662,)"
      ]
     },
     "execution_count": 41,
     "metadata": {},
     "output_type": "execute_result"
    }
   ],
   "source": [
    "predictions2 = model2.predict_classes(X_testk, verbose=0)\n",
    "predictions2_probs = model2.predict(X_testk, verbose=0)\n",
    "predictions2.shape"
   ]
  },
  {
   "cell_type": "code",
   "execution_count": 47,
   "metadata": {},
   "outputs": [
    {
     "data": {
      "text/plain": [
       "<Figure size 432x288 with 0 Axes>"
      ]
     },
     "metadata": {},
     "output_type": "display_data"
    },
    {
     "data": {
      "image/png": "[encoded data removed]",
      "text/plain": [
       "<Figure size 432x288 with 2 Axes>"
      ]
     },
     "metadata": {
      "needs_background": "light"
     },
     "output_type": "display_data"
    }
   ],
   "source": [
    "#plot CM\n",
    "plt.figure()\n",
    "skplt.metrics.plot_confusion_matrix(y_test,predictions1,normalize=False)\n",
    "plt.title(\"Confusion Matrix model1DNN\")\n",
    "plt.show()"
   ]
  },
  {
   "cell_type": "code",
   "execution_count": 48,
   "metadata": {},
   "outputs": [
    {
     "data": {
      "text/plain": [
       "<Figure size 432x288 with 0 Axes>"
      ]
     },
     "metadata": {},
     "output_type": "display_data"
    },
    {
     "data": {
      "image/png": "[encoded data removed]",
      "text/plain": [
       "<Figure size 432x288 with 2 Axes>"
      ]
     },
     "metadata": {
      "needs_background": "light"
     },
     "output_type": "display_data"
    }
   ],
   "source": [
    "# reduce to 1d array\n",
    "#yhat2_probs = predictions2_probs[:, 0]\n",
    "#yhat2_classes = predictions2[:, 0]\n",
    "#yhat2_classes.shape\n",
    "\n",
    "#plot CM\n",
    "plt.figure()\n",
    "skplt.metrics.plot_confusion_matrix(y_test,predictions2,normalize=False)\n",
    "plt.title(\"Confusion Matrix model2DNN\")\n",
    "plt.show()"
   ]
  },
  {
   "cell_type": "markdown",
   "metadata": {},
   "source": [
    "### Evaluate"
   ]
  },
  {
   "cell_type": "code",
   "execution_count": 50,
   "metadata": {},
   "outputs": [
    {
     "name": "stdout",
     "output_type": "stream",
     "text": [
      "dict_keys(['loss', 'accuracy', 'val_loss', 'val_accuracy'])\n"
     ]
    }
   ],
   "source": [
    "# list all data in history\n",
    "print(history0.history.keys())"
   ]
  },
  {
   "cell_type": "code",
   "execution_count": 51,
   "metadata": {},
   "outputs": [
    {
     "name": "stdout",
     "output_type": "stream",
     "text": [
      "dict_keys(['loss', 'accuracy', 'val_loss', 'val_accuracy'])\n"
     ]
    }
   ],
   "source": [
    "# list all data in history\n",
    "print(history2.history.keys())"
   ]
  },
  {
   "cell_type": "code",
   "execution_count": 52,
   "metadata": {},
   "outputs": [
    {
     "data": {
      "image/png": "[encoded data removed]",
      "text/plain": [
       "<Figure size 432x288 with 1 Axes>"
      ]
     },
     "metadata": {
      "needs_background": "light"
     },
     "output_type": "display_data"
    }
   ],
   "source": [
    "# summarize history for loss\n",
    "plt.plot(history0.history['loss'])\n",
    "plt.plot(history0.history['val_loss'])\n",
    "plt.title('model loss')\n",
    "plt.ylabel('loss')\n",
    "plt.xlabel('epoch')\n",
    "plt.legend(['train', 'test'], loc='upper left')\n",
    "plt.show()"
   ]
  },
  {
   "cell_type": "code",
   "execution_count": 53,
   "metadata": {},
   "outputs": [
    {
     "data": {
      "image/png": "[encoded data removed]",
      "text/plain": [
       "<Figure size 432x288 with 1 Axes>"
      ]
     },
     "metadata": {
      "needs_background": "light"
     },
     "output_type": "display_data"
    }
   ],
   "source": [
    "# summarize history for accuracy\n",
    "plt.plot(history2.history['accuracy'])\n",
    "plt.plot(history2.history['val_accuracy'])\n",
    "plt.title('model accuracy')\n",
    "plt.ylabel('accuracy')\n",
    "plt.xlabel('epoch')\n",
    "plt.legend(['train', 'test'], loc='upper left')\n",
    "plt.show()"
   ]
  },
  {
   "cell_type": "code",
   "execution_count": null,
   "metadata": {},
   "outputs": [],
   "source": []
  }
 ],
 "metadata": {
  "kernelspec": {
   "display_name": "Python 3",
   "language": "python",
   "name": "python3"
  },
  "language_info": {
   "codemirror_mode": {
    "name": "ipython",
    "version": 3
   },
   "file_extension": ".py",
   "mimetype": "text/x-python",
   "name": "python",
   "nbconvert_exporter": "python",
   "pygments_lexer": "ipython3",
   "version": "3.7.1"
  }
 },
 "nbformat": 4,
 "nbformat_minor": 2
}
