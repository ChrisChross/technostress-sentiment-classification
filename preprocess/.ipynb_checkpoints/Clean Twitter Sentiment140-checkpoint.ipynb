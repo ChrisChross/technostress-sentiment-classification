{
 "cells": [
  {
   "cell_type": "code",
   "execution_count": 1,
   "metadata": {},
   "outputs": [],
   "source": [
    "import numpy as np\n",
    "import pandas as pd\n",
    "import matplotlib.pyplot as plt\n",
    "from collections import Counter\n",
    "%matplotlib inline\n",
    "import csv"
   ]
  },
  {
   "cell_type": "code",
   "execution_count": 4,
   "metadata": {
    "scrolled": true
   },
   "outputs": [
    {
     "data": {
      "text/html": [
       "<div>\n",
       "<style scoped>\n",
       "    .dataframe tbody tr th:only-of-type {\n",
       "        vertical-align: middle;\n",
       "    }\n",
       "\n",
       "    .dataframe tbody tr th {\n",
       "        vertical-align: top;\n",
       "    }\n",
       "\n",
       "    .dataframe thead th {\n",
       "        text-align: right;\n",
       "    }\n",
       "</style>\n",
       "<table border=\"1\" class=\"dataframe\">\n",
       "  <thead>\n",
       "    <tr style=\"text-align: right;\">\n",
       "      <th></th>\n",
       "      <th>target</th>\n",
       "      <th>ids</th>\n",
       "      <th>date</th>\n",
       "      <th>flag</th>\n",
       "      <th>user</th>\n",
       "      <th>text</th>\n",
       "    </tr>\n",
       "  </thead>\n",
       "  <tbody>\n",
       "    <tr>\n",
       "      <th>0</th>\n",
       "      <td>0</td>\n",
       "      <td>1467810369</td>\n",
       "      <td>Mon Apr 06 22:19:45 PDT 2009</td>\n",
       "      <td>NO_QUERY</td>\n",
       "      <td>_TheSpecialOne_</td>\n",
       "      <td>@switchfoot http://twitpic.com/2y1zl - Awww, t...</td>\n",
       "    </tr>\n",
       "    <tr>\n",
       "      <th>1</th>\n",
       "      <td>0</td>\n",
       "      <td>1467810672</td>\n",
       "      <td>Mon Apr 06 22:19:49 PDT 2009</td>\n",
       "      <td>NO_QUERY</td>\n",
       "      <td>scotthamilton</td>\n",
       "      <td>is upset that he can't update his Facebook by ...</td>\n",
       "    </tr>\n",
       "    <tr>\n",
       "      <th>2</th>\n",
       "      <td>0</td>\n",
       "      <td>1467810917</td>\n",
       "      <td>Mon Apr 06 22:19:53 PDT 2009</td>\n",
       "      <td>NO_QUERY</td>\n",
       "      <td>mattycus</td>\n",
       "      <td>@Kenichan I dived many times for the ball. Man...</td>\n",
       "    </tr>\n",
       "    <tr>\n",
       "      <th>3</th>\n",
       "      <td>0</td>\n",
       "      <td>1467811184</td>\n",
       "      <td>Mon Apr 06 22:19:57 PDT 2009</td>\n",
       "      <td>NO_QUERY</td>\n",
       "      <td>ElleCTF</td>\n",
       "      <td>my whole body feels itchy and like its on fire</td>\n",
       "    </tr>\n",
       "    <tr>\n",
       "      <th>4</th>\n",
       "      <td>0</td>\n",
       "      <td>1467811193</td>\n",
       "      <td>Mon Apr 06 22:19:57 PDT 2009</td>\n",
       "      <td>NO_QUERY</td>\n",
       "      <td>Karoli</td>\n",
       "      <td>@nationwideclass no, it's not behaving at all....</td>\n",
       "    </tr>\n",
       "  </tbody>\n",
       "</table>\n",
       "</div>"
      ],
      "text/plain": [
       "   target         ids                          date      flag  \\\n",
       "0       0  1467810369  Mon Apr 06 22:19:45 PDT 2009  NO_QUERY   \n",
       "1       0  1467810672  Mon Apr 06 22:19:49 PDT 2009  NO_QUERY   \n",
       "2       0  1467810917  Mon Apr 06 22:19:53 PDT 2009  NO_QUERY   \n",
       "3       0  1467811184  Mon Apr 06 22:19:57 PDT 2009  NO_QUERY   \n",
       "4       0  1467811193  Mon Apr 06 22:19:57 PDT 2009  NO_QUERY   \n",
       "\n",
       "              user                                               text  \n",
       "0  _TheSpecialOne_  @switchfoot http://twitpic.com/2y1zl - Awww, t...  \n",
       "1    scotthamilton  is upset that he can't update his Facebook by ...  \n",
       "2         mattycus  @Kenichan I dived many times for the ball. Man...  \n",
       "3          ElleCTF    my whole body feels itchy and like its on fire   \n",
       "4           Karoli  @nationwideclass no, it's not behaving at all....  "
      ]
     },
     "execution_count": 4,
     "metadata": {},
     "output_type": "execute_result"
    }
   ],
   "source": [
    "dataset_path = \"../../training.1600000.processed.noemoticon.csv\"\n",
    "DATASET_COLUMNS = [\"target\", \"ids\", \"date\", \"flag\", \"user\", \"text\"]\n",
    "DATASET_ENCODING = \"ISO-8859-1\"\n",
    "\n",
    "df = pd.read_csv(dataset_path, encoding= DATASET_ENCODING, names=DATASET_COLUMNS)\n",
    "df.head(5)"
   ]
  },
  {
   "cell_type": "code",
   "execution_count": 5,
   "metadata": {},
   "outputs": [
    {
     "data": {
      "text/html": [
       "<div>\n",
       "<style scoped>\n",
       "    .dataframe tbody tr th:only-of-type {\n",
       "        vertical-align: middle;\n",
       "    }\n",
       "\n",
       "    .dataframe tbody tr th {\n",
       "        vertical-align: top;\n",
       "    }\n",
       "\n",
       "    .dataframe thead th {\n",
       "        text-align: right;\n",
       "    }\n",
       "</style>\n",
       "<table border=\"1\" class=\"dataframe\">\n",
       "  <thead>\n",
       "    <tr style=\"text-align: right;\">\n",
       "      <th></th>\n",
       "      <th>target</th>\n",
       "      <th>ids</th>\n",
       "      <th>date</th>\n",
       "      <th>flag</th>\n",
       "      <th>user</th>\n",
       "      <th>text</th>\n",
       "    </tr>\n",
       "  </thead>\n",
       "  <tbody>\n",
       "    <tr>\n",
       "      <th>1599995</th>\n",
       "      <td>4</td>\n",
       "      <td>2193601966</td>\n",
       "      <td>Tue Jun 16 08:40:49 PDT 2009</td>\n",
       "      <td>NO_QUERY</td>\n",
       "      <td>AmandaMarie1028</td>\n",
       "      <td>Just woke up. Having no school is the best fee...</td>\n",
       "    </tr>\n",
       "    <tr>\n",
       "      <th>1599996</th>\n",
       "      <td>4</td>\n",
       "      <td>2193601969</td>\n",
       "      <td>Tue Jun 16 08:40:49 PDT 2009</td>\n",
       "      <td>NO_QUERY</td>\n",
       "      <td>TheWDBoards</td>\n",
       "      <td>TheWDB.com - Very cool to hear old Walt interv...</td>\n",
       "    </tr>\n",
       "    <tr>\n",
       "      <th>1599997</th>\n",
       "      <td>4</td>\n",
       "      <td>2193601991</td>\n",
       "      <td>Tue Jun 16 08:40:49 PDT 2009</td>\n",
       "      <td>NO_QUERY</td>\n",
       "      <td>bpbabe</td>\n",
       "      <td>Are you ready for your MoJo Makeover? Ask me f...</td>\n",
       "    </tr>\n",
       "    <tr>\n",
       "      <th>1599998</th>\n",
       "      <td>4</td>\n",
       "      <td>2193602064</td>\n",
       "      <td>Tue Jun 16 08:40:49 PDT 2009</td>\n",
       "      <td>NO_QUERY</td>\n",
       "      <td>tinydiamondz</td>\n",
       "      <td>Happy 38th Birthday to my boo of alll time!!! ...</td>\n",
       "    </tr>\n",
       "    <tr>\n",
       "      <th>1599999</th>\n",
       "      <td>4</td>\n",
       "      <td>2193602129</td>\n",
       "      <td>Tue Jun 16 08:40:50 PDT 2009</td>\n",
       "      <td>NO_QUERY</td>\n",
       "      <td>RyanTrevMorris</td>\n",
       "      <td>happy #charitytuesday @theNSPCC @SparksCharity...</td>\n",
       "    </tr>\n",
       "  </tbody>\n",
       "</table>\n",
       "</div>"
      ],
      "text/plain": [
       "         target         ids                          date      flag  \\\n",
       "1599995       4  2193601966  Tue Jun 16 08:40:49 PDT 2009  NO_QUERY   \n",
       "1599996       4  2193601969  Tue Jun 16 08:40:49 PDT 2009  NO_QUERY   \n",
       "1599997       4  2193601991  Tue Jun 16 08:40:49 PDT 2009  NO_QUERY   \n",
       "1599998       4  2193602064  Tue Jun 16 08:40:49 PDT 2009  NO_QUERY   \n",
       "1599999       4  2193602129  Tue Jun 16 08:40:50 PDT 2009  NO_QUERY   \n",
       "\n",
       "                    user                                               text  \n",
       "1599995  AmandaMarie1028  Just woke up. Having no school is the best fee...  \n",
       "1599996      TheWDBoards  TheWDB.com - Very cool to hear old Walt interv...  \n",
       "1599997           bpbabe  Are you ready for your MoJo Makeover? Ask me f...  \n",
       "1599998     tinydiamondz  Happy 38th Birthday to my boo of alll time!!! ...  \n",
       "1599999   RyanTrevMorris  happy #charitytuesday @theNSPCC @SparksCharity...  "
      ]
     },
     "execution_count": 5,
     "metadata": {},
     "output_type": "execute_result"
    }
   ],
   "source": [
    "df.tail(5)"
   ]
  },
  {
   "cell_type": "code",
   "execution_count": 6,
   "metadata": {},
   "outputs": [
    {
     "data": {
      "text/plain": [
       "array([0, 4])"
      ]
     },
     "execution_count": 6,
     "metadata": {},
     "output_type": "execute_result"
    }
   ],
   "source": [
    "df[\"target\"].unique()"
   ]
  },
  {
   "cell_type": "code",
   "execution_count": 8,
   "metadata": {},
   "outputs": [
    {
     "data": {
      "text/html": [
       "<div>\n",
       "<style scoped>\n",
       "    .dataframe tbody tr th:only-of-type {\n",
       "        vertical-align: middle;\n",
       "    }\n",
       "\n",
       "    .dataframe tbody tr th {\n",
       "        vertical-align: top;\n",
       "    }\n",
       "\n",
       "    .dataframe thead th {\n",
       "        text-align: right;\n",
       "    }\n",
       "</style>\n",
       "<table border=\"1\" class=\"dataframe\">\n",
       "  <thead>\n",
       "    <tr style=\"text-align: right;\">\n",
       "      <th></th>\n",
       "      <th>target</th>\n",
       "      <th>ids</th>\n",
       "      <th>date</th>\n",
       "      <th>flag</th>\n",
       "      <th>user</th>\n",
       "      <th>text</th>\n",
       "    </tr>\n",
       "  </thead>\n",
       "  <tbody>\n",
       "    <tr>\n",
       "      <th>10</th>\n",
       "      <td>2</td>\n",
       "      <td>13</td>\n",
       "      <td>Mon May 11 03:32:42 UTC 2009</td>\n",
       "      <td>obama</td>\n",
       "      <td>jpeb</td>\n",
       "      <td>Check this video out -- President Obama at the...</td>\n",
       "    </tr>\n",
       "    <tr>\n",
       "      <th>30</th>\n",
       "      <td>2</td>\n",
       "      <td>50</td>\n",
       "      <td>Thu May 14 05:25:04 UTC 2009</td>\n",
       "      <td>40d</td>\n",
       "      <td>hiteshbagai</td>\n",
       "      <td>need suggestions for a good IR filter for my c...</td>\n",
       "    </tr>\n",
       "    <tr>\n",
       "      <th>31</th>\n",
       "      <td>2</td>\n",
       "      <td>117</td>\n",
       "      <td>Sat May 16 16:18:36 UTC 2009</td>\n",
       "      <td>google</td>\n",
       "      <td>Annimallover</td>\n",
       "      <td>@surfit: I just checked my google for my busin...</td>\n",
       "    </tr>\n",
       "    <tr>\n",
       "      <th>45</th>\n",
       "      <td>2</td>\n",
       "      <td>136</td>\n",
       "      <td>Sun May 17 17:30:19 UTC 2009</td>\n",
       "      <td>san francisco</td>\n",
       "      <td>sulu34</td>\n",
       "      <td>is in San Francisco at Bay to Breakers.</td>\n",
       "    </tr>\n",
       "    <tr>\n",
       "      <th>46</th>\n",
       "      <td>2</td>\n",
       "      <td>137</td>\n",
       "      <td>Sun May 17 17:30:23 UTC 2009</td>\n",
       "      <td>san francisco</td>\n",
       "      <td>schuyler</td>\n",
       "      <td>just landed at San Francisco</td>\n",
       "    </tr>\n",
       "  </tbody>\n",
       "</table>\n",
       "</div>"
      ],
      "text/plain": [
       "    target  ids                          date           flag          user  \\\n",
       "10       2   13  Mon May 11 03:32:42 UTC 2009          obama          jpeb   \n",
       "30       2   50  Thu May 14 05:25:04 UTC 2009            40d   hiteshbagai   \n",
       "31       2  117  Sat May 16 16:18:36 UTC 2009         google  Annimallover   \n",
       "45       2  136  Sun May 17 17:30:19 UTC 2009  san francisco        sulu34   \n",
       "46       2  137  Sun May 17 17:30:23 UTC 2009  san francisco      schuyler   \n",
       "\n",
       "                                                 text  \n",
       "10  Check this video out -- President Obama at the...  \n",
       "30  need suggestions for a good IR filter for my c...  \n",
       "31  @surfit: I just checked my google for my busin...  \n",
       "45            is in San Francisco at Bay to Breakers.  \n",
       "46                       just landed at San Francisco  "
      ]
     },
     "execution_count": 8,
     "metadata": {},
     "output_type": "execute_result"
    }
   ],
   "source": [
    "#https://www.kaggle.com/paoloripamonti/twitter-sentiment-analysis/data#Twitter-Sentiment-Analysis\n",
    "dataset_path2 = \"../data/testdata.manual.2009.06.14.csv\"\n",
    "DATASET_COLUMNS2 = [\"target\", \"ids\", \"date\", \"flag\", \"user\", \"text\"]\n",
    "df2 = pd.read_csv(dataset_path2, encoding =DATASET_ENCODING , names=DATASET_COLUMNS2)\n",
    "df3 = df2[df2['target']==2]\n",
    "df3.head(5)"
   ]
  },
  {
   "cell_type": "code",
   "execution_count": 9,
   "metadata": {
    "scrolled": true
   },
   "outputs": [],
   "source": [
    "with open(\"../data/processedPositive.csv\") as productivityCost:\n",
    "    csv_reader = csv.reader(productivityCost, delimiter=',')\n",
    "    rows = []\n",
    "    for row in csv_reader:\n",
    "        rows = row\n",
    "posTweets = pd.DataFrame(data=rows,columns=[\"text\"])\n",
    "#posTweets = posTweets.drop([:10,:],inplace=True) # drop first n rows\n",
    "posTweets['target'] = 4\n",
    "positiveTweets = posTweets.iloc[:1186]"
   ]
  },
  {
   "cell_type": "code",
   "execution_count": 10,
   "metadata": {
    "scrolled": true
   },
   "outputs": [],
   "source": [
    "with open(\"../data/processedNeutral.csv\") as processedNeutral:\n",
    "    csv_reader = csv.reader(processedNeutral, delimiter=',')\n",
    "    #print(readPC[0])\n",
    "    rows = []\n",
    "    for row in csv_reader:\n",
    "        rows = row\n",
    "neutralTweets = pd.DataFrame(data=rows,columns=[\"text\"])\n",
    "neutralTweets['target'] = 2\n",
    "neutralTweets = neutralTweets.iloc[:1186]"
   ]
  },
  {
   "cell_type": "code",
   "execution_count": 11,
   "metadata": {},
   "outputs": [],
   "source": [
    "#only do once in run\n",
    "df = df.drop([\"ids\",\"date\",\"flag\",\"user\"],axis=1)\n",
    "df3 = df3.drop([\"ids\",\"date\",\"flag\",\"user\"],axis=1)"
   ]
  },
  {
   "cell_type": "code",
   "execution_count": 13,
   "metadata": {},
   "outputs": [
    {
     "name": "stdout",
     "output_type": "stream",
     "text": [
      "(1600000, 2)\n",
      "(139, 2)\n",
      "(1186, 2)\n",
      "(1186, 2)\n"
     ]
    }
   ],
   "source": [
    "print(df.shape)\n",
    "print(df3.shape)\n",
    "print(posTweets.shape)\n",
    "print(neutralTweets.shape)"
   ]
  },
  {
   "cell_type": "markdown",
   "metadata": {},
   "source": [
    "### Load negative words \n",
    "source: Negative words from Liu "
   ]
  },
  {
   "cell_type": "code",
   "execution_count": 22,
   "metadata": {
    "scrolled": true
   },
   "outputs": [
    {
     "data": {
      "text/plain": [
       "'2faced|2faces|abnormal|abolish|abominable|abominably|abominate|abomination|abort|aborted|aborts|abrade|abrasive|abrupt|abruptly|abscond|absence|absentminded|absentee|absurd|absurdity|absurdly|absurdness|abuse|abused|abuses|abusive|abysmal|abysmally|abyss|accidental|accost|accursed|accusation|accusations|accuse|accuses|accusing|accusingly|acerbate|acerbic|acerbically|ache|ached|aches|achey|aching|acrid|acridly|acridness|acrimonious|acrimoniously|acrimony|adamant|adamantly|addict|addicted|addicting|addicts|admonish|admonisher|admonishingly|admonishment|admonition|adulterate|adulterated|adulteration|adulterier|adversarial|adversary|adverse|adversity|afflict|affliction|afflictive|affront|afraid|aggravate|aggravating|aggravation|aggression|aggressive|aggressiveness|aggressor|aggrieve|aggrieved|aggrivation|aghast|agonies|agonize|agonizing|agonizingly|agony|aground|ail|ailing|ailment|aimless|alarm|alarmed|alarming|alarmingly|alienate|alienated|alienation|allegation|allegations|allege|allergic|allergies|allergy|aloof|altercation|ambiguity|ambiguous|ambivalence|ambivalent|ambush|amiss|amputate|anarchism|anarchist|anarchistic|anarchy|anemic|anger|angrily|angriness|angry|anguish|animosity|annihilate|annihilation|annoy|annoyance|annoyances|annoyed|annoying|annoyingly|annoys|anomalous|anomaly|antagonism|antagonist|antagonistic|antagonize|anti|antiamerican|antiisraeli|antioccupation|antiproliferation|antisemites|antisocial|antius|antiwhite|antipathy|antiquated|antithetical|anxieties|anxiety|anxious|anxiously|anxiousness|apathetic|apathetically|apathy|apocalypse|apocalyptic|apologist|apologists|appal|appall|appalled|appalling|appallingly|apprehension|apprehensions|apprehensive|apprehensively|arbitrary|arcane|archaic|arduous|arduously|argumentative|arrogance|arrogant|arrogantly|ashamed|asinine|asininely|asinininity|askance|asperse|aspersion|aspersions|assail|assassin|assassinate|assault|assult|astray|asunder|atrocious|atrocities|atrocity|atrophy|attack|attacks|audacious|audaciously|audaciousness|audacity|audiciously|austere|authoritarian|autocrat|autocratic|avalanche|avarice|avaricious|avariciously|avenge|averse|aversion|aweful|awful|awfully|awfulness|awkward|awkwardness|ax|babble|backlogged|backwood|backwoods|backache|backaches|backaching|backbite|backbiting|backward|backwardness|backwood|backwoods|bad|badly|baffle|baffled|bafflement|baffling|bait|balk|banal|banalize|bane|banish|banishment|bankrupt|barbarian|barbaric|barbarically|barbarity|barbarous|barbarously|barren|baseless|bash|bashed|bashful|bashing|bastard|bastards|battered|battering|batty|bearish|beastly|bedlam|bedlamite|befoul|beg|beggar|beggarly|begging|beguile|belabor|belated|beleaguer|belie|belittle|belittled|belittling|bellicose|belligerence|belligerent|belligerently|bemoan|bemoaning|bemused|bent|berate|bereave|bereavement|bereft|berserk|beseech|beset|besiege|besmirch|bestial|betray|betrayal|betrayals|betrayer|betraying|betrays|bewail|beware|bewilder|bewildered|bewildering|bewilderingly|bewilderment|bewitch|bias|biased|biases|bicker|bickering|bidrigging|bigotries|bigotry|bitch|bitchy|biting|bitingly|bitter|bitterly|bitterness|bizarre|blab|blabber|blackmail|blah|blame|blameworthy|bland|blandish|blaspheme|blasphemous|blasphemy|blasted|blatant|blatantly|blather|bleak|bleakly|bleakness|bleed|bleeding|bleeds|blemish|blind|blinding|blindingly|blindside|blister|blistering|bloated|blockage|blockhead|bloodshed|bloodthirsty|bloody|blotchy|blow|blunder|blundering|blunders|blunt|blur|bluring|blurred|blurring|blurry|blurs|blurt|boastful|boggle|bogus|boil|boiling|boisterous|bomb|bombard|bombardment|bombastic|bondage|bonkers|bore|bored|boredom|bores|boring|botch|bother|bothered|bothering|bothers|bothersome|bowdlerize|boycott|braggart|bragger|brainless|brainwash|brash|brashly|brashness|brat|bravado|brazen|brazenly|brazenness|breach|break|breakup|breakups|breakdown|breaking|breaks|breakup|breakups|bribery|brimstone|bristle|brittle|broke|broken|brokenhearted|brood|browbeat|bruise|bruised|bruises|bruising|brusque|brutal|brutalising|brutalities|brutality|brutalize|brutalizing|brutally|brute|brutish|bs|buckle|bug|bugging|buggy|bugs|bulkier|bulkiness|bulky|bulkyness|bull|bull|bullies|bullshit|bullshyt|bully|bullying|bullyingly|bum|bump|bumped|bumping|bumpping|bumps|bumpy|bungle|bungler|bungling|bunk|burden|burdensome|burdensomely|burn|burned|burning|burns|bust|busts|busybody|butcher|butchery|buzzing|byzantine|cackle|calamities|calamitous|calamitously|calamity|callous|calumniate|calumniation|calumnies|calumnious|calumniously|calumny|cancer|cancerous|cannibal|cannibalize|capitulate|capricious|capriciously|capriciousness|capsize|careless|carelessness|caricature|carnage|carp|cartoonish|cashstrapped|castigate|castrated|casualty|cataclysm|cataclysmal|cataclysmic|cataclysmically|catastrophe|catastrophes|catastrophic|catastrophically|catastrophies|caustic|caustically|cautionary|cave|censure|chafe|chaff|chagrin|challenging|chaos|chaotic|chasten|chastise|chastisement|chatter|chatterbox|cheap|cheapen|cheaply|cheat|cheated|cheater|cheating|cheats|checkered|cheerless|cheesy|chide|childish|chill|chilly|chintzy|choke|choleric|choppy|chore|chronic|chunky|clamor|clamorous|clash|cliche|cliched|clique|clog|clogged|clogs|cloud|clouding|cloudy|clueless|clumsy|clunky|coarse|cocky|coerce|coercion|coercive|cold|coldly|collapse|collude|collusion|combative|combust|comical|commiserate|commonplace|commotion|commotions|complacent|complain|complained|complaining|complains|complaint|complaints|complex|complicated|complication|complicit|compulsion|compulsive|concede|conceded|conceit|conceited|concen|concens|concern|concerned|concerns|concession|concessions|condemn|condemnable|condemnation|condemned|condemns|condescend|condescending|condescendingly|condescension|confess|confession|confessions|confined|conflict|conflicted|conflicting|conflicts|confound|confounded|confounding|confront|confrontation|confrontational|confuse|confused|confuses|confusing|confusion|confusions|congested|congestion|cons|conscons|conservative|conspicuous|conspicuously|conspiracies|conspiracy|conspirator|conspiratorial|conspire|consternation|contagious|contaminate|contaminated|contaminates|contaminating|contamination|contempt|contemptible|contemptuous|contemptuously|contend|contention|contentious|contort|contortions|contradict|contradiction|contradictory|contrariness|contravene|contrive|contrived|controversial|controversy|convoluted|corrode|corrosion|corrosions|corrosive|corrupt|corrupted|corrupting|corruption|corrupts|corruptted|costlier|costly|counterproductive|counterproductive|coupists|covetous|coward|cowardly|crabby|crack|cracked|cracks|craftily|craftly|crafty|cramp|cramped|cramping|cranky|crap|crappy|craps|crash|crashed|crashes|crashing|crass|craven|cravenly|craze|crazily|craziness|crazy|creak|creaking|creaks|credulous|creep|creeping|creeps|creepy|crept|crime|criminal|cringe|cringed|cringes|cripple|crippled|cripples|crippling|crisis|critic|critical|criticism|criticisms|criticize|criticized|criticizing|critics|cronyism|crook|crooked|crooks|crowded|crowdedness|crude|cruel|crueler|cruelest|cruelly|cruelness|cruelties|cruelty|crumble|crumbling|crummy|crumple|crumpled|crumples|crush|crushed|crushing|cry|culpable|culprit|cumbersome|cunt|cunts|cuplrit|curse|cursed|curses|curt|cuss|cussed|cutthroat|cynical|cynicism|dmn|damage|damaged|damages|damaging|damn|damnable|damnably|damnation|damned|damning|damper|danger|dangerous|dangerousness|dark|darken|darkened|darker|darkness|dastard|dastardly|daunt|daunting|dauntingly|dawdle|daze|dazed|dead|deadbeat|deadlock|deadly|deadweight|deaf|dearth|death|debacle|debase|debasement|debaser|debatable|debauch|debaucher|debauchery|debilitate|debilitating|debility|debt|debts|decadence|decadent|decay|decayed|deceit|deceitful|deceitfully|deceitfulness|deceive|deceiver|deceivers|deceiving|deception|deceptive|deceptively|declaim|decline|declines|declining|decrement|decrepit|decrepitude|decry|defamation|defamations|defamatory|defame|defect|defective|defects|defensive|defiance|defiant|defiantly|deficiencies|deficiency|deficient|defile|defiler|deform|deformed|defrauding|defunct|defy|degenerate|degenerately|degeneration|degradation|degrade|degrading|degradingly|dehumanization|dehumanize|deign|deject|dejected|dejectedly|dejection|delay|delayed|delaying|delays|delinquency|delinquent|delirious|delirium|delude|deluded|deluge|delusion|delusional|delusions|demean|demeaning|demise|demolish|demolisher|demon|demonic|demonize|demonized|demonizes|demonizing|demoralize|demoralizing|demoralizingly|denial|denied|denies|denigrate|denounce|dense|dent|dented|dents|denunciate|denunciation|denunciations|deny|denying|deplete|deplorable|deplorably|deplore|deploring|deploringly|deprave|depraved|depravedly|deprecate|depress|depressed|depressing|depressingly|depression|depressions|deprive|deprived|deride|derision|derisive|derisively|derisiveness|derogatory|desecrate|desert|desertion|desiccate|desiccated|desititute|desolate|desolately|desolation|despair|despairing|despairingly|desperate|desperately|desperation|despicable|despicably|despise|despised|despoil|despoiler|despondence|despondency|despondent|despondently|despot|despotic|despotism|destabilisation|destains|destitute|destitution|destroy|destroyer|destruction|destructive|desultory|deter|deteriorate|deteriorating|deterioration|deterrent|detest|detestable|detestably|detested|detesting|detests|detract|detracted|detracting|detraction|detracts|detriment|detrimental|devastate|devastated|devastates|devastating|devastatingly|devastation|deviate|deviation|devil|devilish|devilishly|devilment|devilry|devious|deviously|deviousness|devoid|diabolic|diabolical|diabolically|diametrically|diappointed|diatribe|diatribes|dick|dictator|dictatorial|die|diehard|died|dies|difficult|difficulties|difficulty|diffidence|dilapidated|dilemma|dillydally|dim|dimmer|din|ding|dings|dinky|dire|direly|direness|dirt|dirtbag|dirtbags|dirts|dirty|disable|disabled|disaccord|disadvantage|disadvantaged|disadvantageous|disadvantages|disaffect|disaffected|disaffirm|disagree|disagreeable|disagreeably|disagreed|disagreeing|disagreement|disagrees|disallow|disapointed|disapointing|disapointment|disappoint|disappointed|disappointing|disappointingly|disappointment|disappointments|disappoints|disapprobation|disapproval|disapprove|disapproving|disarm|disarray|disaster|disasterous|disastrous|disastrously|disavow|disavowal|disbelief|disbelieve|disbeliever|disclaim|discombobulate|discomfit|discomfititure|discomfort|discompose|disconcert|disconcerted|disconcerting|disconcertingly|disconsolate|disconsolately|disconsolation|discontent|discontented|discontentedly|discontinued|discontinuity|discontinuous|discord|discordance|discordant|discountenance|discourage|discouragement|discouraging|discouragingly|discourteous|discourteously|discoutinous|discredit|discrepant|discriminate|discrimination|discriminatory|disdain|disdained|disdainful|disdainfully|disfavor|disgrace|disgraced|disgraceful|disgracefully|disgruntle|disgruntled|disgust|disgusted|disgustedly|disgustful|disgustfully|disgusting|disgustingly|dishearten|disheartening|dishearteningly|dishonest|dishonestly|dishonesty|dishonor|dishonorable|dishonorablely|disillusion|disillusioned|disillusionment|disillusions|disinclination|disinclined|disingenuous|disingenuously|disintegrate|disintegrated|disintegrates|disintegration|disinterest|disinterested|dislike|disliked|dislikes|disliking|dislocated|disloyal|disloyalty|dismal|dismally|dismalness|dismay|dismayed|dismaying|dismayingly|dismissive|dismissively|disobedience|disobedient|disobey|disoobedient|disorder|disordered|disorderly|disorganized|disorient|disoriented|disown|disparage|disparaging|disparagingly|dispensable|dispirit|dispirited|dispiritedly|dispiriting|displace|displaced|displease|displeased|displeasing|displeasure|disproportionate|disprove|disputable|dispute|disputed|disquiet|disquieting|disquietingly|disquietude|disregard|disregardful|disreputable|disrepute|disrespect|disrespectable|disrespectablity|disrespectful|disrespectfully|disrespectfulness|disrespecting|disrupt|disruption|disruptive|diss|dissapointed|dissappointed|dissappointing|dissatisfaction|dissatisfactory|dissatisfied|dissatisfies|dissatisfy|dissatisfying|dissed|dissemble|dissembler|dissension|dissent|dissenter|dissention|disservice|disses|dissidence|dissident|dissidents|dissing|dissocial|dissolute|dissolution|dissonance|dissonant|dissonantly|dissuade|dissuasive|distains|distaste|distasteful|distastefully|distort|distorted|distortion|distorts|distract|distracting|distraction|distraught|distraughtly|distraughtness|distress|distressed|distressing|distressingly|distrust|distrustful|distrusting|disturb|disturbance|disturbed|disturbing|disturbingly|disunity|disvalue|divergent|divisive|divisively|divisiveness|dizzing|dizzingly|dizzy|doddering|dodgey|dogged|doggedly|dogmatic|doldrums|domineer|domineering|donside|doom|doomed|doomsday|dope|doubt|doubtful|doubtfully|doubts|douchbag|douchebag|douchebags|downbeat|downcast|downer|downfall|downfallen|downgrade|downhearted|downheartedly|downhill|downside|downsides|downturn|downturns|drab|draconian|draconic|drag|dragged|dragging|dragoon|drags|drain|drained|draining|drains|drastic|drastically|drawback|drawbacks|dread|dreadful|dreadfully|dreadfulness|dreary|dripped|dripping|drippy|drips|drones|droop|droops|dropout|dropouts|dropout|dropouts|drought|drowning|drunk|drunkard|drunken|dubious|dubiously|dubitable|dud|dull|dullard|dumb|dumbfound|dump|dumped|dumping|dumps|dunce|dungeon|dungeons|dupe|dust|dusty|dwindling|dying|earsplitting|eccentric|eccentricity|effigy|effrontery|egocentric|egomania|egotism|egotistical|egotistically|egregious|egregiously|electionrigger|elimination|emaciated|emasculate|embarrass|embarrassing|embarrassingly|embarrassment|embattled|embroil|embroiled|embroilment|emergency|emphatic|emphatically|emptiness|encroach|encroachment|endanger|enemies|enemy|enervate|enfeeble|enflame|engulf|enjoin|enmity|enrage|enraged|enraging|enslave|entangle|entanglement|entrap|entrapment|envious|enviously|enviousness|epidemic|equivocal|erase|erode|erodes|erosion|err|errant|erratic|erratically|erroneous|erroneously|error|errors|eruptions|escapade|eschew|estranged|evade|evasion|evasive|evil|evildoer|evils|eviscerate|exacerbate|exagerate|exagerated|exagerates|exaggerate|exaggeration|exasperate|exasperated|exasperating|exasperatingly|exasperation|excessive|excessively|exclusion|excoriate|excruciating|excruciatingly|excuse|excuses|execrate|exhaust|exhausted|exhaustion|exhausts|exhorbitant|exhort|exile|exorbitant|exorbitantance|exorbitantly|expel|expensive|expire|expired|explode|exploit|exploitation|explosive|expropriate|expropriation|expulse|expunge|exterminate|extermination|extinguish|extort|extortion|extraneous|extravagance|extravagant|extravagantly|extremism|extremist|extremists|eyesore|fk|fabricate|fabrication|facetious|facetiously|fail|failed|failing|fails|failure|failures|faint|fainthearted|faithless|fake|fall|fallacies|fallacious|fallaciously|fallaciousness|fallacy|fallen|falling|fallout|falls|false|falsehood|falsely|falsify|falter|faltered|famine|famished|fanatic|fanatical|fanatically|fanaticism|fanatics|fanciful|farfetched|farce|farcical|farcicalyetprovocative|farcically|farfetched|fascism|fascist|fastidious|fastidiously|fastuous|fat|fatcat|fatcats|fatal|fatalistic|fatalistically|fatally|fatcat|fatcats|fateful|fatefully|fathomless|fatigue|fatigued|fatique|fatty|fatuity|fatuous|fatuously|fault|faults|faulty|fawningly|faze|fear|fearful|fearfully|fears|fearsome|feckless|feeble|feeblely|feebleminded|feign|feint|fell|felon|felonious|ferociously|ferocity|fetid|fever|feverish|fevers|fiasco|fib|fibber|fickle|fiction|fictional|fictitious|fidget|fidgety|fiend|fiendish|fierce|figurehead|filth|filthy|finagle|finicky|fissures|fist|flabbergast|flabbergasted|flagging|flagrant|flagrantly|flair|flairs|flak|flake|flakey|flakieness|flaking|flaky|flare|flares|flareup|flareups|flatout|flaunt|flaw|flawed|flaws|flee|fleed|fleeing|fleer|flees|fleeting|flicering|flicker|flickering|flickers|flighty|flimflam|flimsy|flirt|flirty|floored|flounder|floundering|flout|fluster|foe|fool|fooled|foolhardy|foolish|foolishly|foolishness|forbid|forbidden|forbidding|forceful|foreboding|forebodingly|forfeit|forged|forgetful|forgetfully|forgetfulness|forlorn|forlornly|forsake|forsaken|forswear|foul|foully|foulness|fractious|fractiously|fracture|fragile|fragmented|frail|frantic|frantically|franticly|fraud|fraudulent|fraught|frazzle|frazzled|freak|freaking|freakish|freakishly|freaks|freeze|freezes|freezing|frenetic|frenetically|frenzied|frenzy|fret|fretful|frets|friction|frictions|fried|friggin|frigging|fright|frighten|frightening|frighteningly|frightful|frightfully|frigid|frost|frown|froze|frozen|fruitless|fruitlessly|frustrate|frustrated|frustrates|frustrating|frustratingly|frustration|frustrations|fuck|fucking|fudge|fugitive|fullblown|fulminate|fumble|fume|fumes|fundamentalism|funky|funnily|funny|furious|furiously|furor|fury|fuss|fussy|fustigate|fusty|futile|futilely|futility|fuzzy|gabble|gaff|gaffe|gainsay|gainsayer|gall|galling|gallingly|galls|gangster|gape|garbage|garish|gasp|gauche|gaudy|gawk|gawky|geezer|genocide|getrich|ghastly|ghetto|ghosting|gibber|gibberish|gibe|giddy|gimmick|gimmicked|gimmicking|gimmicks|gimmicky|glare|glaringly|glib|glibly|glitch|glitches|gloatingly|gloom|gloomy|glower|glum|glut|gnawing|goad|goading|godawful|goof|goofy|goon|gossip|graceless|gracelessly|graft|grainy|grapple|grate|grating|gravely|greasy|greed|greedy|grief|grievance|grievances|grieve|grieving|grievous|grievously|grim|grimace|grind|gripe|gripes|grisly|gritty|gross|grossly|grotesque|grouch|grouchy|groundless|grouse|growl|grudge|grudges|grudging|grudgingly|gruesome|gruesomely|gruff|grumble|grumpier|grumpiest|grumpily|grumpish|grumpy|guile|guilt|guiltily|guilty|gullible|gutless|gutter|hack|hacks|haggard|haggle|hairloss|halfhearted|halfheartedly|hallucinate|hallucination|hamper|hampered|handicapped|hang|hangs|haphazard|hapless|harangue|harass|harassed|harasses|harassment|harboring|harbors|hard|hardhit|hardline|hardliner|hardball|harden|hardened|hardheaded|hardhearted|hardliner|hardliners|hardship|hardships|harm|harmed|harmful|harms|harpy|harridan|harried|harrow|harsh|harshly|hasseling|hassle|hassled|hassles|haste|hastily|hasty|hate|hated|hateful|hatefully|hatefulness|hater|haters|hates|hating|hatred|haughtily|haughty|haunt|haunting|havoc|hawkish|haywire|hazard|hazardous|haze|hazy|headaches|headache|headaches|heartbreaker|heartbreaking|heartbreakingly|heartless|heathen|heavyhanded|heavyhearted|heck|heckle|heckled|heckles|hectic|hedge|hedonistic|heedless|hefty|hegemonism|hegemonistic|hegemony|heinous|hell|hellbent|hellion|hells|helpless|helplessly|helplessness|heresy|heretic|heretical|hesitant|hestitant|hideous|hideously|hideousness|highpriced|hiliarious|hinder|hindrance|hiss|hissed|hissing|hohum|hoard|hoax|hobble|hogs|hollow|hoodium|hoodwink|hooligan|hopeless|hopelessly|hopelessness|horde|horrendous|horrendously|horrible|horrid|horrific|horrified|horrifies|horrify|horrifying|horrifys|hostage|hostile|hostilities|hostility|hotbeds|hothead|hotheaded|hothouse|hubris|huckster|hum|humid|humiliate|humiliating|humiliation|humming|hung|hurt|hurted|hurtful|hurting|hurts|hustler|hype|hypocricy|hypocrisy|hypocrite|hypocrites|hypocritical|hypocritically|hysteria|hysteric|hysterical|hysterically|hysterics|idiocies|idiocy|idiot|idiotic|idiotically|idiots|idle|ignoble|ignominious|ignominiously|ignominy|ignorance|ignorant|ignore|illadvised|illconceived|illdefined|illdesigned|illfated|illfavored|illformed|illmannered|illnatured|illsorted|illtempered|illtreated|illtreatment|illusage|illused|illegal|illegally|illegitimate|illicit|illiterate|illness|illogic|illogical|illogically|illusion|illusions|illusory|imaginary|imbalance|imbecile|imbroglio|immaterial|immature|imminence|imminently|immobilized|immoderate|immoderately|immodest|immoral|immorality|immorally|immovable|impair|impaired|impasse|impatience|impatient|impatiently|impeach|impedance|impede|impediment|impending|impenitent|imperfect|imperfection|imperfections|imperfectly|imperialist|imperil|imperious|imperiously|impermissible|impersonal|impertinent|impetuous|impetuously|impiety|impinge|impious|implacable|implausible|implausibly|implicate|implication|implode|impolite|impolitely|impolitic|importunate|importune|impose|imposers|imposing|imposition|impossible|impossiblity|impossibly|impotent|impoverish|impoverished|impractical|imprecate|imprecise|imprecisely|imprecision|imprison|imprisonment|improbability|improbable|improbably|improper|improperly|impropriety|imprudence|imprudent|impudence|impudent|impudently|impugn|impulsive|impulsively|impunity|impure|impurity|inability|inaccuracies|inaccuracy|inaccurate|inaccurately|inaction|inactive|inadequacy|inadequate|inadequately|inadverent|inadverently|inadvisable|inadvisably|inane|inanely|inappropriate|inappropriately|inapt|inaptitude|inarticulate|inattentive|inaudible|incapable|incapably|incautious|incendiary|incense|incessant|incessantly|incite|incitement|incivility|inclement|incognizant|incoherence|incoherent|incoherently|incommensurate|incomparable|incomparably|incompatability|incompatibility|incompatible|incompetence|incompetent|incompetently|incomplete|incompliant|incomprehensible|incomprehension|inconceivable|inconceivably|incongruous|incongruously|inconsequent|inconsequential|inconsequentially|inconsequently|inconsiderate|inconsiderately|inconsistence|inconsistencies|inconsistency|inconsistent|inconsolable|inconsolably|inconstant|inconvenience|inconveniently|incorrect|incorrectly|incorrigible|incorrigibly|incredulous|incredulously|inculcate|indecency|indecent|indecently|indecision|indecisive|indecisively|indecorum|indefensible|indelicate|indeterminable|indeterminably|indeterminate|indifference|indifferent|indigent|indignant|indignantly|indignation|indignity|indiscernible|indiscreet|indiscreetly|indiscretion|indiscriminate|indiscriminately|indiscriminating|indistinguishable|indoctrinate|indoctrination|indolent|indulge|ineffective|ineffectively|ineffectiveness|ineffectual|ineffectually|ineffectualness|inefficacious|inefficacy|inefficiency|inefficient|inefficiently|inelegance|inelegant|ineligible|ineloquent|ineloquently|inept|ineptitude|ineptly|inequalities|inequality|inequitable|inequitably|inequities|inescapable|inescapably|inessential|inevitable|inevitably|inexcusable|inexcusably|inexorable|inexorably|inexperience|inexperienced|inexpert|inexpertly|inexpiable|inexplainable|inextricable|inextricably|infamous|infamously|infamy|infected|infection|infections|inferior|inferiority|infernal|infest|infested|infidel|infidels|infiltrator|infiltrators|infirm|inflame|inflammation|inflammatory|inflammed|inflated|inflationary|inflexible|inflict|infraction|infringe|infringement|infringements|infuriate|infuriated|infuriating|infuriatingly|inglorious|ingrate|ingratitude|inhibit|inhibition|inhospitable|inhospitality|inhuman|inhumane|inhumanity|inimical|inimically|iniquitous|iniquity|injudicious|injure|injurious|injury|injustice|injustices|innuendo|inoperable|inopportune|inordinate|inordinately|insane|insanely|insanity|insatiable|insecure|insecurity|insensible|insensitive|insensitively|insensitivity|insidious|insidiously|insignificance|insignificant|insignificantly|insincere|insincerely|insincerity|insinuate|insinuating|insinuation|insociable|insolence|insolent|insolently|insolvent|insouciance|instability|instable|instigate|instigator|instigators|insubordinate|insubstantial|insubstantially|insufferable|insufferably|insufficiency|insufficient|insufficiently|insular|insult|insulted|insulting|insultingly|insults|insupportable|insupportably|insurmountable|insurmountably|insurrection|intefere|inteferes|intense|interfere|interference|interferes|intermittent|interrupt|interruption|interruptions|intimidate|intimidating|intimidatingly|intimidation|intolerable|intolerablely|intolerance|intoxicate|intractable|intransigence|intransigent|intrude|intrusion|intrusive|inundate|inundated|invader|invalid|invalidate|invalidity|invasive|invective|inveigle|invidious|invidiously|invidiousness|invisible|involuntarily|involuntary|irascible|irate|irately|ire|irk|irked|irking|irks|irksome|irksomely|irksomeness|irksomenesses|ironic|ironical|ironically|ironies|irony|irragularity|irrational|irrationalities|irrationality|irrationally|irrationals|irreconcilable|irrecoverable|irrecoverableness|irrecoverablenesses|irrecoverably|irredeemable|irredeemably|irreformable|irregular|irregularity|irrelevance|irrelevant|irreparable|irreplacible|irrepressible|irresolute|irresolvable|irresponsible|irresponsibly|irretating|irretrievable|irreversible|irritable|irritably|irritant|irritate|irritated|irritating|irritation|irritations|isolate|isolated|isolation|issue|issues|itch|itching|itchy|jabber|jaded|jagged|jam|jarring|jaundiced|jealous|jealously|jealousness|jealousy|jeer|jeering|jeeringly|jeers|jeopardize|jeopardy|jerk|jerky|jitter|jitters|jittery|jobkilling|jobless|joke|joker|jolt|judder|juddering|judders|jumpy|junk|junky|junkyard|jutter|jutters|kaput|kill|killed|killer|killing|killjoy|kills|knave|knife|knock|knotted|kook|kooky|lack|lackadaisical|lacked|lackey|lackeys|lacking|lackluster|lacks|laconic|lag|lagged|lagging|laggy|lags|laidoff|lambast|lambaste|lame|lameduck|lament|lamentable|lamentably|languid|languish|languor|languorous|languorously|lanky|lapse|lapsed|lapses|lascivious|lastditch|latency|laughable|laughably|laughingstock|lawbreaker|lawbreaking|lawless|lawlessness|layoff|layoffhappy|lazy|leak|leakage|leakages|leaking|leaks|leaky|lech|lecher|lecherous|lechery|leech|leer|leery|leftleaning|lemon|lengthy|lessdeveloped|lesserknown|letch|lethal|lethargic|lethargy|lewd|lewdly|lewdness|liability|liable|liar|liars|licentious|licentiously|licentiousness|lie|lied|lier|lies|lifethreatening|lifeless|limit|limitation|limitations|limited|limits|limp|listless|litigious|littleknown|livid|lividly|loath|loathe|loathing|loathly|loathsome|loathsomely|lone|loneliness|lonely|loner|lonesome|longtime|longwinded|longing|longingly|loophole|loopholes|loose|loot|lorn|lose|loser|losers|loses|losing|loss|losses|lost|loud|louder|lousy|loveless|lovelorn|lowrated|lowly|ludicrous|ludicrously|lugubrious|lukewarm|lull|lumpy|lunatic|lunaticism|lurch|lure|lurid|lurk|lurking|lying|macabre|mad|madden|maddening|maddeningly|madder|madly|madman|madness|maladjusted|maladjustment|malady|malaise|malcontent|malcontented|maledict|malevolence|malevolent|malevolently|malice|malicious|maliciously|maliciousness|malign|malignant|malodorous|maltreatment|mangle|mangled|mangles|mangling|mania|maniac|maniacal|manic|manipulate|manipulation|manipulative|manipulators|mar|marginal|marginally|martyrdom|martyrdomseeking|mashed|massacre|massacres|matte|mawkish|mawkishly|mawkishness|meager|meaningless|meanness|measly|meddle|meddlesome|mediocre|mediocrity|melancholy|melodramatic|melodramatically|meltdown|menace|menacing|menacingly|mendacious|mendacity|menial|merciless|mercilessly|mess|messed|messes|messing|messy|midget|miff|militancy|mindless|mindlessly|mirage|mire|misalign|misaligned|misaligns|misapprehend|misbecome|misbecoming|misbegotten|misbehave|misbehavior|miscalculate|miscalculation|miscellaneous|mischief|mischievous|mischievously|misconception|misconceptions|miscreant|miscreants|misdirection|miser|miserable|miserableness|miserably|miseries|miserly|misery|misfit|misfortune|misgiving|misgivings|misguidance|misguide|misguided|mishandle|mishap|misinform|misinformed|misinterpret|misjudge|misjudgment|mislead|misleading|misleadingly|mislike|mismanage|mispronounce|mispronounced|mispronounces|misread|misreading|misrepresent|misrepresentation|miss|missed|misses|misstatement|mist|mistake|mistaken|mistakenly|mistakes|mistified|mistress|mistrust|mistrustful|mistrustfully|mists|misunderstand|misunderstanding|misunderstandings|misunderstood|misuse|moan|mobster|mock|mocked|mockeries|mockery|mocking|mockingly|mocks|molest|molestation|monotonous|monotony|monster|monstrosities|monstrosity|monstrous|monstrously|moody|moot|mope|morbid|morbidly|mordant|mordantly|moribund|moron|moronic|morons|mortification|mortified|mortify|mortifying|motionless|motley|mourn|mourner|mournful|mournfully|muddle|muddy|mudslinger|mudslinging|mulish|multipolarization|mundane|murder|murderer|murderous|murderously|murky|muscleflexing|mushy|musty|mysterious|mysteriously|mystery|mystify|myth|nag|nagging|naive|naively|narrower|nastily|nastiness|nasty|naughty|nauseate|nauseates|nauseating|nauseatingly|naÔve|nebulous|nebulously|needless|needlessly|needy|nefarious|nefariously|negate|negation|negative|negatives|negativity|neglect|neglected|negligence|negligent|nemesis|nepotism|nervous|nervously|nervousness|nettle|nettlesome|neurotic|neurotically|niggle|niggles|nightmare|nightmarish|nightmarishly|nitpick|nitpicking|noise|noises|noisier|noisy|nonconfidence|nonexistent|nonresponsive|nonsense|nosey|notoriety|notorious|notoriously|noxious|nuisance|numb|obese|object|objection|objectionable|objections|oblique|obliterate|obliterated|oblivious|obnoxious|obnoxiously|obscene|obscenely|obscenity|obscure|obscured|obscures|obscurity|obsess|obsessive|obsessively|obsessiveness|obsolete|obstacle|obstinate|obstinately|obstruct|obstructed|obstructing|obstruction|obstructs|obtrusive|obtuse|occlude|occluded|occludes|occluding|odd|odder|oddest|oddities|oddity|oddly|odor|offence|offend|offender|offending|offenses|offensive|offensively|offensiveness|officious|ominous|ominously|omission|omit|onesided|onerous|onerously|onslaught|opinionated|opponent|opportunistic|oppose|opposition|oppositions|oppress|oppression|oppressive|oppressively|oppressiveness|oppressors|ordeal|orphan|ostracize|outbreak|outburst|outbursts|outcast|outcry|outlaw|outmoded|outrage|outraged|outrageous|outrageously|outrageousness|outrages|outsider|overacted|overawe|overbalanced|overhyped|overpriced|overvaluation|overact|overacted|overawe|overbalance|overbalanced|overbearing|overbearingly|overblown|overdo|overdone|overdue|overemphasize|overheat|overkill|overloaded|overlook|overpaid|overpayed|overplay|overpower|overpriced|overrated|overreach|overrun|overshadow|oversight|oversights|oversimplification|oversimplified|oversimplify|oversize|overstate|overstated|overstatement|overstatements|overstates|overtaxed|overthrow|overthrows|overturn|overweight|overwhelm|overwhelmed|overwhelming|overwhelmingly|overwhelms|overzealous|overzealously|overzelous|pain|painful|painfull|painfully|pains|pale|pales|paltry|pan|pandemonium|pander|pandering|panders|panic|panick|panicked|panicking|panicky|paradoxical|paradoxically|paralize|paralyzed|paranoia|paranoid|parasite|pariah|parody|partiality|partisan|partisans|passe|passive|passiveness|pathetic|pathetically|patronize|paucity|pauper|paupers|payback|peculiar|peculiarly|pedantic|peeled|peeve|peeved|peevish|peevishly|penalize|penalty|perfidious|perfidity|perfunctory|peril|perilous|perilously|perish|pernicious|perplex|perplexed|perplexing|perplexity|persecute|persecution|pertinacious|pertinaciously|pertinacity|perturb|perturbed|pervasive|perverse|perversely|perversion|perversity|pervert|perverted|perverts|pessimism|pessimistic|pessimistically|pest|pestilent|petrified|petrify|pettifog|petty|phobia|phobic|phony|picket|picketed|picketing|pickets|picky|pig|pigs|pillage|pillory|pimple|pinch|pique|pitiable|pitiful|pitifully|pitiless|pitilessly|pittance|pity|plagiarize|plague|plasticky|plaything|plea|pleas|plebeian|plight|plot|plotters|ploy|plunder|plunderer|pointless|pointlessly|poison|poisonous|poisonously|pokey|poky|polarisation|polemize|pollute|polluter|polluters|polution|pompous|poor|poorer|poorest|poorly|posturing|pout|poverty|powerless|prate|pratfall|prattle|precarious|precariously|precipitate|precipitous|predatory|predicament|prejudge|prejudice|prejudices|prejudicial|premeditated|preoccupy|preposterous|preposterously|presumptuous|presumptuously|pretence|pretend|pretense|pretentious|pretentiously|prevaricate|pricey|pricier|prick|prickle|prickles|prideful|prik|primitive|prison|prisoner|problem|problematic|problems|procrastinate|procrastinates|procrastination|profane|profanity|prohibit|prohibitive|prohibitively|propaganda|propagandize|proprietary|prosecute|protest|protested|protesting|protests|protracted|provocation|provocative|provoke|pry|pugnacious|pugnaciously|pugnacity|punch|punish|punishable|punitive|punk|puny|puppet|puppets|puzzled|puzzlement|puzzling|quack|qualm|qualms|quandary|quarrel|quarrellous|quarrellously|quarrels|quarrelsome|quash|queer|questionable|quibble|quibbles|quitter|rabid|racism|racist|racists|racy|radical|radicalization|radically|radicals|rage|ragged|raging|rail|raked|rampage|rampant|ramshackle|rancor|randomly|rankle|rant|ranted|ranting|rantingly|rants|rape|raped|raping|rascal|rascals|rash|rattle|rattled|rattles|ravage|raving|reactionary|rebellious|rebuff|rebuke|recalcitrant|recant|recession|recessionary|reckless|recklessly|recklessness|recoil|recourses|redundancy|redundant|refusal|refuse|refused|refuses|refusing|refutation|refute|refuted|refutes|refuting|regress|regression|regressive|regret|regreted|regretful|regretfully|regrets|regrettable|regrettably|regretted|reject|rejected|rejecting|rejection|rejects|relapse|relentless|relentlessly|relentlessness|reluctance|reluctant|reluctantly|remorse|remorseful|remorsefully|remorseless|remorselessly|remorselessness|renounce|renunciation|repel|repetitive|reprehensible|reprehensibly|reprehension|reprehensive|repress|repression|repressive|reprimand|reproach|reproachful|reprove|reprovingly|repudiate|repudiation|repugn|repugnance|repugnant|repugnantly|repulse|repulsed|repulsing|repulsive|repulsively|repulsiveness|resent|resentful|resentment|resignation|resigned|resistance|restless|restlessness|restrict|restricted|restriction|restrictive|resurgent|retaliate|retaliatory|retard|retarded|retardedness|retards|reticent|retract|retreat|retreated|revenge|revengeful|revengefully|revert|revile|reviled|revoke|revolt|revolting|revoltingly|revulsion|revulsive|rhapsodize|rhetoric|rhetorical|ricer|ridicule|ridicules|ridiculous|ridiculously|rife|rift|rifts|rigid|rigidity|rigidness|rile|riled|rip|ripoff|ripoff|ripped|risk|risks|risky|rival|rivalry|roadblocks|rocky|rogue|rollercoaster|rot|rotten|rough|rremediable|rubbish|rude|rue|ruffian|ruffle|ruin|ruined|ruining|ruinous|ruins|rumbling|rumor|rumors|rumours|rumple|rundown|runaway|rupture|rust|rusts|rusty|rut|ruthless|ruthlessly|ruthlessness|ruts|sabotage|sack|sacrificed|sad|sadden|sadly|sadness|sag|sagged|sagging|saggy|sags|salacious|sanctimonious|sap|sarcasm|sarcastic|sarcastically|sardonic|sardonically|sass|satirical|satirize|savage|savaged|savagery|savages|scaly|scam|scams|scandal|scandalize|scandalized|scandalous|scandalously|scandals|scandel|scandels|scant|scapegoat|scar|scarce|scarcely|scarcity|scare|scared|scarier|scariest|scarily|scarred|scars|scary|scathing|scathingly|sceptical|scoff|scoffingly|scold|scolded|scolding|scoldingly|scorching|scorchingly|scorn|scornful|scornfully|scoundrel|scourge|scowl|scramble|scrambled|scrambles|scrambling|scrap|scratch|scratched|scratches|scratchy|scream|screech|screwup|screwed|screwedup|screwy|scuff|scuffs|scum|scummy|secondclass|secondtier|secretive|sedentary|seedy|seethe|seething|selfcoup|selfcriticism|selfdefeating|selfdestructive|selfhumiliation|selfinterest|selfinterested|selfserving|selfinterested|selfish|selfishly|selfishness|semiretarded|senile|sensationalize|senseless|senselessly|seriousness|sermonize|servitude|setup|setback|setbacks|sever|severe|severity|sht|shabby|shadowy|shady|shake|shaky|shallow|sham|shambles|shame|shameful|shamefully|shamefulness|shameless|shamelessly|shamelessness|shark|sharply|shatter|shemale|shimmer|shimmy|shipwreck|shirk|shirker|shit|shiver|shock|shocked|shocking|shockingly|shoddy|shortlived|shortage|shortchange|shortcoming|shortcomings|shortness|shortsighted|shortsightedness|showdown|shrew|shriek|shrill|shrilly|shrivel|shroud|shrouded|shrug|shun|shunned|sick|sicken|sickening|sickeningly|sickly|sickness|sidetrack|sidetracked|siege|sillily|silly|simplistic|simplistically|sin|sinful|sinfully|sinister|sinisterly|sink|sinking|skeletons|skeptic|skeptical|skeptically|skepticism|sketchy|skimpy|skinny|skittish|skittishly|skulk|slack|slander|slanderer|slanderous|slanderously|slanders|slap|slashing|slaughter|slaughtered|slave|slaves|sleazy|slime|slog|slogged|slogging|slogs|sloooooooooooooow|sloooow|slooow|sloow|sloppily|sloppy|sloth|slothful|slow|slowmoving|slowed|slower|slowest|slowly|sloww|slowww|slowwww|slug|sluggish|slump|slumping|slumpping|slur|slut|sluts|sly|smack|smallish|smash|smear|smell|smelled|smelling|smells|smelly|smelt|smoke|smokescreen|smolder|smoldering|smother|smoulder|smouldering|smudge|smudged|smudges|smudging|smug|smugly|smut|smuttier|smuttiest|smutty|snag|snagged|snagging|snags|snappish|snappishly|snare|snarky|snarl|sneak|sneakily|sneaky|sneer|sneering|sneeringly|snob|snobbish|snobby|snobish|snobs|snub|socal|soapy|sob|sober|sobering|solemn|solicitude|somber|sore|sorely|soreness|sorrow|sorrowful|sorrowfully|sorry|sour|sourly|spade|spank|spendy|spew|spewed|spewing|spews|spilling|spinster|spiritless|spite|spiteful|spitefully|spitefulness|splatter|split|splitting|spoil|spoilage|spoilages|spoiled|spoilled|spoils|spook|spookier|spookiest|spookily|spooky|spoonfed|spoonfeed|spoonfed|sporadic|spotty|spurious|spurn|sputter|squabble|squabbling|squander|squash|squeak|squeaks|squeaky|squeal|squealing|squeals|squirm|stab|stagnant|stagnate|stagnation|staid|stain|stains|stale|stalemate|stall|stalls|stammer|stampede|standstill|stark|starkly|startle|startling|startlingly|starvation|starve|static|steal|stealing|steals|steep|steeply|stench|stereotype|stereotypical|stereotypically|stern|stew|sticky|stiff|stiffness|stifle|stifling|stiflingly|stigma|stigmatize|sting|stinging|stingingly|stingy|stink|stinks|stodgy|stole|stolen|stooge|stooges|stormy|straggle|straggler|strain|strained|straining|strange|strangely|stranger|strangest|strangle|streaky|strenuous|stress|stresses|stressful|stressfully|stricken|strict|strictly|strident|stridently|strife|strike|stringent|stringently|struck|struggle|struggled|struggles|struggling|strut|stubborn|stubbornly|stubbornness|stuck|stuffy|stumble|stumbled|stumbles|stump|stumped|stumps|stun|stunt|stunted|stupid|stupidest|stupidity|stupidly|stupified|stupify|stupor|stutter|stuttered|stuttering|stutters|sty|stymied|subpar|subdued|subjected|subjection|subjugate|subjugation|submissive|subordinate|subpoena|subpoenas|subservience|subservient|substandard|subtract|subversion|subversive|subversively|subvert|succumb|suck|sucked|sucker|sucks|sucky|sue|sued|sueing|sues|suffer|suffered|sufferer|sufferers|suffering|suffers|suffocate|sugarcoat|sugarcoated|sugarcoated|suicidal|suicide|sulk|sullen|sully|sunder|sunk|sunken|superficial|superficiality|superficially|superfluous|superstition|superstitious|suppress|suppression|surrender|susceptible|suspect|suspicion|suspicions|suspicious|suspiciously|swagger|swamped|sweaty|swelled|swelling|swindle|swipe|swollen|symptom|symptoms|syndrome|taboo|tacky|taint|tainted|tamper|tangle|tangled|tangles|tank|tanked|tanks|tantrum|tardy|tarnish|tarnished|tarnishes|tarnishing|tattered|taunt|taunting|tauntingly|taunts|taut|tawdry|taxing|tease|teasingly|tedious|tediously|temerity|temper|tempest|temptation|tenderness|tense|tension|tentative|tentatively|tenuous|tenuously|tepid|terrible|terribleness|terribly|terror|terrorgenic|terrorism|terrorize|testily|testy|tetchily|tetchy|thankless|thicker|thirst|thorny|thoughtless|thoughtlessly|thoughtlessness|thrash|threat|threaten|threatening|threats|threesome|throb|throbbed|throbbing|throbs|throttle|thug|thumbdown|thumbsdown|thwart|timeconsuming|timid|timidity|timidly|timidness|tiny|tingled|tingling|tired|tiresome|tiring|tiringly|toil|toll|topheavy|topple|torment|tormented|torrent|tortuous|torture|tortured|tortures|torturing|torturous|torturously|totalitarian|touchy|toughness|tout|touted|touts|toxic|traduce|tragedy|tragic|tragically|traitor|traitorous|traitorously|tramp|trample|transgress|transgression|trap|traped|trapped|trash|trashed|trashy|trauma|traumatic|traumatically|traumatize|traumatized|travesties|travesty|treacherous|treacherously|treachery|treason|treasonous|trick|tricked|trickery|tricky|trivial|trivialize|trouble|troubled|troublemaker|troubles|troublesome|troublesomely|troubling|troublingly|truant|tumble|tumbled|tumbles|tumultuous|turbulent|turmoil|twist|twisted|twists|twofaced|twofaces|tyrannical|tyrannically|tyranny|tyrant|ugh|uglier|ugliest|ugliness|ugly|ulterior|ultimatum|ultimatums|ultrahardline|unviewable|unable|unacceptable|unacceptablely|unacceptably|unaccessible|unaccustomed|unachievable|unaffordable|unappealing|unattractive|unauthentic|unavailable|unavoidably|unbearable|unbearablely|unbelievable|unbelievably|uncaring|uncertain|uncivil|uncivilized|unclean|unclear|uncollectible|uncomfortable|uncomfortably|uncomfy|uncompetitive|uncompromising|uncompromisingly|unconfirmed|unconstitutional|uncontrolled|unconvincing|unconvincingly|uncooperative|uncouth|uncreative|undecided|undefined|undependability|undependable|undercut|undercuts|undercutting|underdog|underestimate|underlings|undermine|undermined|undermines|undermining|underpaid|underpowered|undersized|undesirable|undetermined|undid|undignified|undissolved|undocumented|undone|undue|unease|uneasily|uneasiness|uneasy|uneconomical|unemployed|unequal|unethical|uneven|uneventful|unexpected|unexpectedly|unexplained|unfairly|unfaithful|unfaithfully|unfamiliar|unfavorable|unfeeling|unfinished|unfit|unforeseen|unforgiving|unfortunate|unfortunately|unfounded|unfriendly|unfulfilled|unfunded|ungovernable|ungrateful|unhappily|unhappiness|unhappy|unhealthy|unhelpful|unilateralism|unimaginable|unimaginably|unimportant|uninformed|uninsured|unintelligible|unintelligile|unipolar|unjust|unjustifiable|unjustifiably|unjustified|unjustly|unkind|unkindly|unknown|unlamentable|unlamentably|unlawful|unlawfully|unlawfulness|unleash|unlicensed|unlikely|unlucky|unmoved|unnatural|unnaturally|unnecessary|unneeded|unnerve|unnerved|unnerving|unnervingly|unnoticed|unobserved|unorthodox|unorthodoxy|unpleasant|unpleasantries|unpopular|unpredictable|unprepared|unproductive|unprofitable|unprove|unproved|unproven|unproves|unproving|unqualified|unravel|unraveled|unreachable|unreadable|unrealistic|unreasonable|unreasonably|unrelenting|unrelentingly|unreliability|unreliable|unresolved|unresponsive|unrest|unruly|unsafe|unsatisfactory|unsavory|unscrupulous|unscrupulously|unsecure|unseemly|unsettle|unsettled|unsettling|unsettlingly|unskilled|unsophisticated|unsound|unspeakable|unspeakablely|unspecified|unstable|unsteadily|unsteadiness|unsteady|unsuccessful|unsuccessfully|unsupported|unsupportive|unsure|unsuspecting|unsustainable|untenable|untested|unthinkable|unthinkably|untimely|untouched|untrue|untrustworthy|untruthful|unusable|unusably|unuseable|unuseably|unusual|unusually|unviewable|unwanted|unwarranted|unwatchable|unwelcome|unwell|unwieldy|unwilling|unwillingly|unwillingness|unwise|unwisely|unworkable|unworthy|unyielding|upbraid|upheaval|uprising|uproar|uproarious|uproariously|uproarous|uproarously|uproot|upset|upseting|upsets|upsetting|upsettingly|urgent|useless|usurp|usurper|utterly|vagrant|vague|vagueness|vain|vainly|vanity|vehement|vehemently|vengeance|vengeful|vengefully|vengefulness|venom|venomous|venomously|vent|vestiges|vex|vexation|vexing|vexingly|vibrate|vibrated|vibrates|vibrating|vibration|vice|vicious|viciously|viciousness|victimize|vile|vileness|vilify|villainous|villainously|villains|villian|villianous|villianously|villify|vindictive|vindictively|vindictiveness|violate|violation|violator|violators|violent|violently|viper|virulence|virulent|virulently|virus|vociferous|vociferously|volatile|volatility|vomit|vomited|vomiting|vomits|vulgar|vulnerable|wack|wail|wallow|wane|waning|wanton|warlike|warily|wariness|warlike|warned|warning|warp|warped|wary|washedout|waste|wasted|wasteful|wastefulness|wasting|waterdown|watereddown|wayward|weak|weaken|weakening|weaker|weakness|weaknesses|weariness|wearisome|weary|wedge|weed|weep|weird|weirdly|wheedle|whimper|whine|whining|whiny|whips|whore|whores|wicked|wickedly|wickedness|wild|wildly|wiles|wilt|wily|wimpy|wince|wobble|wobbled|wobbles|woe|woebegone|woeful|woefully|womanizer|womanizing|worn|worried|worriedly|worrier|worries|worrisome|worry|worrying|worryingly|worse|worsen|worsening|worst|worthless|worthlessly|worthlessness|wound|wounds|wrangle|wrath|wreak|wreaked|wreaks|wreck|wrest|wrestle|wretch|wretched|wretchedly|wretchedness|wrinkle|wrinkled|wrinkles|wrip|wripped|wripping|writhe|wrong|wrongful|wrongly|wrought|yawn|zap|zapped|zaps|zealot|zealous|zealously|zombie'"
      ]
     },
     "execution_count": 22,
     "metadata": {},
     "output_type": "execute_result"
    }
   ],
   "source": [
    "negativeWords = [line.rstrip('\\n') for line in open('negative-words.txt')]\n",
    "patternNg = '|'.join([word for word in negativeWords])\n",
    "patternNg = patternNg.replace(\"-\",\"\") # eventually replace - and * \n",
    "patternNg = patternNg.replace(\"*\",\"\")\n",
    "patternNg"
   ]
  },
  {
   "cell_type": "code",
   "execution_count": 31,
   "metadata": {},
   "outputs": [
    {
     "data": {
      "text/plain": [
       "8"
      ]
     },
     "execution_count": 31,
     "metadata": {},
     "output_type": "execute_result"
    }
   ],
   "source": [
    "patternTechno = \"handy|Firefox|Opera|Siri|Alexa|Pixel|smarthome|smartwatch|internet|web|programm|handy|smartphone|phone|mobilephone|PC|email|Coftware|Computer|SAP|Apple|Google|Samsung|Blackberry|HTC\"\n",
    "patternWork = \"work|labour|grind|job|business|occupation|position|profession\"\n",
    "len(pat1)\n"
   ]
  },
  {
   "cell_type": "code",
   "execution_count": 29,
   "metadata": {
    "scrolled": true
   },
   "outputs": [],
   "source": [
    "pat1 = patternWork.split(\"|\")\n",
    "pat2 = patternTechno.split(\"|\")\n",
    "pat3 = patternNg.split(\"|\")\n",
    "dic1 = pd.DataFrame(data={\"workPattern\":pat1})\n",
    "dic2 = pd.DataFrame(data={\"technoPattern\":pat2})\n",
    "dic3 = pd.DataFrame(data={\"ngPattern\":pat3})\n",
    "dic11 = dic1.T\n",
    "dic22 = dic2.T\n",
    "dic33 = dic3.T\n",
    "#dic4 = dic22.merge(dic11, left_on=['A','B'], right_on=['A','D'], how='left')"
   ]
  },
  {
   "cell_type": "code",
   "execution_count": 25,
   "metadata": {},
   "outputs": [
    {
     "data": {
      "text/html": [
       "<div>\n",
       "<style scoped>\n",
       "    .dataframe tbody tr th:only-of-type {\n",
       "        vertical-align: middle;\n",
       "    }\n",
       "\n",
       "    .dataframe tbody tr th {\n",
       "        vertical-align: top;\n",
       "    }\n",
       "\n",
       "    .dataframe thead th {\n",
       "        text-align: right;\n",
       "    }\n",
       "</style>\n",
       "<table border=\"1\" class=\"dataframe\">\n",
       "  <thead>\n",
       "    <tr style=\"text-align: right;\">\n",
       "      <th></th>\n",
       "      <th>0</th>\n",
       "      <th>1</th>\n",
       "      <th>2</th>\n",
       "      <th>3</th>\n",
       "      <th>4</th>\n",
       "      <th>5</th>\n",
       "      <th>6</th>\n",
       "      <th>7</th>\n",
       "      <th>8</th>\n",
       "      <th>9</th>\n",
       "      <th>...</th>\n",
       "      <th>4773</th>\n",
       "      <th>4774</th>\n",
       "      <th>4775</th>\n",
       "      <th>4776</th>\n",
       "      <th>4777</th>\n",
       "      <th>4778</th>\n",
       "      <th>4779</th>\n",
       "      <th>4780</th>\n",
       "      <th>4781</th>\n",
       "      <th>4782</th>\n",
       "    </tr>\n",
       "  </thead>\n",
       "  <tbody>\n",
       "    <tr>\n",
       "      <th>ngPattern</th>\n",
       "      <td>2faced</td>\n",
       "      <td>2faces</td>\n",
       "      <td>abnormal</td>\n",
       "      <td>abolish</td>\n",
       "      <td>abominable</td>\n",
       "      <td>abominably</td>\n",
       "      <td>abominate</td>\n",
       "      <td>abomination</td>\n",
       "      <td>abort</td>\n",
       "      <td>aborted</td>\n",
       "      <td>...</td>\n",
       "      <td>wrongly</td>\n",
       "      <td>wrought</td>\n",
       "      <td>yawn</td>\n",
       "      <td>zap</td>\n",
       "      <td>zapped</td>\n",
       "      <td>zaps</td>\n",
       "      <td>zealot</td>\n",
       "      <td>zealous</td>\n",
       "      <td>zealously</td>\n",
       "      <td>zombie</td>\n",
       "    </tr>\n",
       "    <tr>\n",
       "      <th>technoPattern</th>\n",
       "      <td>handy</td>\n",
       "      <td>Firefox</td>\n",
       "      <td>Opera</td>\n",
       "      <td>Siri</td>\n",
       "      <td>Alexa</td>\n",
       "      <td>Pixel</td>\n",
       "      <td>smarthome</td>\n",
       "      <td>smartwatch</td>\n",
       "      <td>internet</td>\n",
       "      <td>web</td>\n",
       "      <td>...</td>\n",
       "      <td>NaN</td>\n",
       "      <td>NaN</td>\n",
       "      <td>NaN</td>\n",
       "      <td>NaN</td>\n",
       "      <td>NaN</td>\n",
       "      <td>NaN</td>\n",
       "      <td>NaN</td>\n",
       "      <td>NaN</td>\n",
       "      <td>NaN</td>\n",
       "      <td>NaN</td>\n",
       "    </tr>\n",
       "    <tr>\n",
       "      <th>workPattern</th>\n",
       "      <td>work</td>\n",
       "      <td>labour</td>\n",
       "      <td>grind</td>\n",
       "      <td>job</td>\n",
       "      <td>business</td>\n",
       "      <td>occupation</td>\n",
       "      <td>position</td>\n",
       "      <td>profession</td>\n",
       "      <td>NaN</td>\n",
       "      <td>NaN</td>\n",
       "      <td>...</td>\n",
       "      <td>NaN</td>\n",
       "      <td>NaN</td>\n",
       "      <td>NaN</td>\n",
       "      <td>NaN</td>\n",
       "      <td>NaN</td>\n",
       "      <td>NaN</td>\n",
       "      <td>NaN</td>\n",
       "      <td>NaN</td>\n",
       "      <td>NaN</td>\n",
       "      <td>NaN</td>\n",
       "    </tr>\n",
       "  </tbody>\n",
       "</table>\n",
       "<p>3 rows × 4783 columns</p>\n",
       "</div>"
      ],
      "text/plain": [
       "                 0        1         2        3           4           5     \\\n",
       "ngPattern      2faced   2faces  abnormal  abolish  abominable  abominably   \n",
       "technoPattern   handy  Firefox     Opera     Siri       Alexa       Pixel   \n",
       "workPattern      work   labour     grind      job    business  occupation   \n",
       "\n",
       "                    6            7         8        9     ...     4773  \\\n",
       "ngPattern      abominate  abomination     abort  aborted  ...  wrongly   \n",
       "technoPattern  smarthome   smartwatch  internet      web  ...      NaN   \n",
       "workPattern     position   profession       NaN      NaN  ...      NaN   \n",
       "\n",
       "                  4774  4775 4776    4777  4778    4779     4780       4781  \\\n",
       "ngPattern      wrought  yawn  zap  zapped  zaps  zealot  zealous  zealously   \n",
       "technoPattern      NaN   NaN  NaN     NaN   NaN     NaN      NaN        NaN   \n",
       "workPattern        NaN   NaN  NaN     NaN   NaN     NaN      NaN        NaN   \n",
       "\n",
       "                 4782  \n",
       "ngPattern      zombie  \n",
       "technoPattern     NaN  \n",
       "workPattern       NaN  \n",
       "\n",
       "[3 rows x 4783 columns]"
      ]
     },
     "execution_count": 25,
     "metadata": {},
     "output_type": "execute_result"
    }
   ],
   "source": [
    "merged = dic22.combine_first(dic11)\n",
    "merged = dic33.combine_first(merged)\n",
    "merged"
   ]
  },
  {
   "cell_type": "code",
   "execution_count": 26,
   "metadata": {},
   "outputs": [
    {
     "data": {
      "text/html": [
       "<div>\n",
       "<style scoped>\n",
       "    .dataframe tbody tr th:only-of-type {\n",
       "        vertical-align: middle;\n",
       "    }\n",
       "\n",
       "    .dataframe tbody tr th {\n",
       "        vertical-align: top;\n",
       "    }\n",
       "\n",
       "    .dataframe thead th {\n",
       "        text-align: right;\n",
       "    }\n",
       "</style>\n",
       "<table border=\"1\" class=\"dataframe\">\n",
       "  <thead>\n",
       "    <tr style=\"text-align: right;\">\n",
       "      <th></th>\n",
       "      <th>0</th>\n",
       "      <th>1</th>\n",
       "      <th>2</th>\n",
       "      <th>3</th>\n",
       "    </tr>\n",
       "  </thead>\n",
       "  <tbody>\n",
       "    <tr>\n",
       "      <th>ngPattern</th>\n",
       "      <td>2faced</td>\n",
       "      <td>2faces</td>\n",
       "      <td>abnormal</td>\n",
       "      <td>abolish</td>\n",
       "    </tr>\n",
       "    <tr>\n",
       "      <th>technoPattern</th>\n",
       "      <td>handy</td>\n",
       "      <td>Firefox</td>\n",
       "      <td>Opera</td>\n",
       "      <td>Siri</td>\n",
       "    </tr>\n",
       "    <tr>\n",
       "      <th>workPattern</th>\n",
       "      <td>work</td>\n",
       "      <td>labour</td>\n",
       "      <td>grind</td>\n",
       "      <td>job</td>\n",
       "    </tr>\n",
       "  </tbody>\n",
       "</table>\n",
       "</div>"
      ],
      "text/plain": [
       "                    0        1         2        3\n",
       "ngPattern      2faced   2faces  abnormal  abolish\n",
       "technoPattern   handy  Firefox     Opera     Siri\n",
       "workPattern      work   labour     grind      job"
      ]
     },
     "execution_count": 26,
     "metadata": {},
     "output_type": "execute_result"
    }
   ],
   "source": [
    "dflatex2 = merged.iloc[[0,1,2], [0,1,2,3]]\n",
    "dflatex2\n",
    "#print(dflatex2.to_latex())"
   ]
  },
  {
   "cell_type": "code",
   "execution_count": 34,
   "metadata": {},
   "outputs": [],
   "source": [
    "#print(dflatex2.head(5).to_latex())"
   ]
  },
  {
   "cell_type": "code",
   "execution_count": 148,
   "metadata": {},
   "outputs": [
    {
     "name": "stdout",
     "output_type": "stream",
     "text": [
      "1692.7498183250427\n"
     ]
    },
    {
     "data": {
      "text/html": [
       "<div>\n",
       "<style scoped>\n",
       "    .dataframe tbody tr th:only-of-type {\n",
       "        vertical-align: middle;\n",
       "    }\n",
       "\n",
       "    .dataframe tbody tr th {\n",
       "        vertical-align: top;\n",
       "    }\n",
       "\n",
       "    .dataframe thead th {\n",
       "        text-align: right;\n",
       "    }\n",
       "</style>\n",
       "<table border=\"1\" class=\"dataframe\">\n",
       "  <thead>\n",
       "    <tr style=\"text-align: right;\">\n",
       "      <th></th>\n",
       "      <th>target</th>\n",
       "      <th>text</th>\n",
       "    </tr>\n",
       "  </thead>\n",
       "  <tbody>\n",
       "    <tr>\n",
       "      <th>65</th>\n",
       "      <td>0</td>\n",
       "      <td>@Starrbby too bad I won't be around I lost my ...</td>\n",
       "    </tr>\n",
       "    <tr>\n",
       "      <th>304</th>\n",
       "      <td>0</td>\n",
       "      <td>amazon s3 plugin not worked in my website . it...</td>\n",
       "    </tr>\n",
       "    <tr>\n",
       "      <th>686</th>\n",
       "      <td>0</td>\n",
       "      <td>The Hoyts Distribution NZ website isn't workin...</td>\n",
       "    </tr>\n",
       "    <tr>\n",
       "      <th>1025</th>\n",
       "      <td>0</td>\n",
       "      <td>dang won't be able to get to any workshops run...</td>\n",
       "    </tr>\n",
       "    <tr>\n",
       "      <th>2394</th>\n",
       "      <td>0</td>\n",
       "      <td>Tried to install a Twitter-application on my p...</td>\n",
       "    </tr>\n",
       "  </tbody>\n",
       "</table>\n",
       "</div>"
      ],
      "text/plain": [
       "      target                                               text\n",
       "65         0  @Starrbby too bad I won't be around I lost my ...\n",
       "304        0  amazon s3 plugin not worked in my website . it...\n",
       "686        0  The Hoyts Distribution NZ website isn't workin...\n",
       "1025       0  dang won't be able to get to any workshops run...\n",
       "2394       0  Tried to install a Twitter-application on my p..."
      ]
     },
     "execution_count": 148,
     "metadata": {},
     "output_type": "execute_result"
    }
   ],
   "source": [
    "#careful, this can take up to ~50 min to complition\n",
    "import time\n",
    "start = time.time()\n",
    "stress = df[df['text'].str.contains(pattern)&\n",
    "             df['text'].str.contains(patternTechno)&\n",
    "             df['text'].str.contains(patternWork)]\n",
    "end = time.time()\n",
    "print(end - start)\n",
    "stress.head(5)"
   ]
  },
  {
   "cell_type": "code",
   "execution_count": 150,
   "metadata": {},
   "outputs": [
    {
     "data": {
      "text/plain": [
       "(2439, 2)"
      ]
     },
     "execution_count": 150,
     "metadata": {},
     "output_type": "execute_result"
    }
   ],
   "source": [
    "stress.shape"
   ]
  },
  {
   "cell_type": "code",
   "execution_count": 152,
   "metadata": {},
   "outputs": [],
   "source": [
    "#stress['text'] = np.where(stress['Last'] > IB_high,1, np.nan)\n",
    "tsTweets = stress.iloc[:1186]"
   ]
  },
  {
   "cell_type": "code",
   "execution_count": 156,
   "metadata": {},
   "outputs": [
    {
     "name": "stderr",
     "output_type": "stream",
     "text": [
      "/Users/ChrisChross/anaconda3/lib/python3.7/site-packages/ipykernel_launcher.py:1: FutureWarning: Sorting because non-concatenation axis is not aligned. A future version\n",
      "of pandas will change to not sort by default.\n",
      "\n",
      "To accept the future behavior, pass 'sort=False'.\n",
      "\n",
      "To retain the current behavior and silence the warning, pass 'sort=True'.\n",
      "\n",
      "  \"\"\"Entry point for launching an IPython kernel.\n"
     ]
    }
   ],
   "source": [
    "mixed = pd.concat([tsTweets,neutralTweets,positiveTweets],sort=True)  "
   ]
  },
  {
   "cell_type": "code",
   "execution_count": 157,
   "metadata": {},
   "outputs": [
    {
     "data": {
      "text/plain": [
       "target    3558\n",
       "text      3558\n",
       "dtype: int64"
      ]
     },
     "execution_count": 157,
     "metadata": {},
     "output_type": "execute_result"
    }
   ],
   "source": [
    "mixed.count()"
   ]
  },
  {
   "cell_type": "code",
   "execution_count": 159,
   "metadata": {},
   "outputs": [
    {
     "data": {
      "text/html": [
       "<div>\n",
       "<style scoped>\n",
       "    .dataframe tbody tr th:only-of-type {\n",
       "        vertical-align: middle;\n",
       "    }\n",
       "\n",
       "    .dataframe tbody tr th {\n",
       "        vertical-align: top;\n",
       "    }\n",
       "\n",
       "    .dataframe thead tr th {\n",
       "        text-align: left;\n",
       "    }\n",
       "\n",
       "    .dataframe thead tr:last-of-type th {\n",
       "        text-align: right;\n",
       "    }\n",
       "</style>\n",
       "<table border=\"1\" class=\"dataframe\">\n",
       "  <thead>\n",
       "    <tr>\n",
       "      <th></th>\n",
       "      <th colspan=\"4\" halign=\"left\">text</th>\n",
       "    </tr>\n",
       "    <tr>\n",
       "      <th></th>\n",
       "      <th>count</th>\n",
       "      <th>unique</th>\n",
       "      <th>top</th>\n",
       "      <th>freq</th>\n",
       "    </tr>\n",
       "    <tr>\n",
       "      <th>target</th>\n",
       "      <th></th>\n",
       "      <th></th>\n",
       "      <th></th>\n",
       "      <th></th>\n",
       "    </tr>\n",
       "  </thead>\n",
       "  <tbody>\n",
       "    <tr>\n",
       "      <th>0</th>\n",
       "      <td>1186</td>\n",
       "      <td>1183</td>\n",
       "      <td>I run a non-profit website. That's not the way...</td>\n",
       "      <td>2</td>\n",
       "    </tr>\n",
       "    <tr>\n",
       "      <th>2</th>\n",
       "      <td>1186</td>\n",
       "      <td>1126</td>\n",
       "      <td>and more. Also in epaper.</td>\n",
       "      <td>38</td>\n",
       "    </tr>\n",
       "    <tr>\n",
       "      <th>4</th>\n",
       "      <td>1186</td>\n",
       "      <td>1002</td>\n",
       "      <td>Thanks for the recent follow Happy to connect ...</td>\n",
       "      <td>34</td>\n",
       "    </tr>\n",
       "  </tbody>\n",
       "</table>\n",
       "</div>"
      ],
      "text/plain": [
       "        text                                                               \n",
       "       count unique                                                top freq\n",
       "target                                                                     \n",
       "0       1186   1183  I run a non-profit website. That's not the way...    2\n",
       "2       1186   1126                         and more. Also in epaper.    38\n",
       "4       1186   1002  Thanks for the recent follow Happy to connect ...   34"
      ]
     },
     "execution_count": 159,
     "metadata": {},
     "output_type": "execute_result"
    }
   ],
   "source": [
    "mixed.groupby('target').describe()"
   ]
  },
  {
   "cell_type": "markdown",
   "metadata": {},
   "source": [
    "### Clean up the data"
   ]
  },
  {
   "cell_type": "code",
   "execution_count": 161,
   "metadata": {},
   "outputs": [],
   "source": [
    "#replace & with and\n",
    "mixed['text'] = np.where(mixed['text'].str.contains(\"&amp;\"),mixed['text'].str.replace('&amp;','and'),mixed['text'])\n",
    "#replace \" with Null\n",
    "mixed['text'] = np.where(mixed['text'].str.contains(\"&quot;\"),mixed['text'].str.replace('&quot;',''),mixed['text'])\n",
    "#mixed['text'] = np.where(mixed['text'].str.contains(\"www\"),mixed['text'].str.replace('&quot;',''),mixed['text'])"
   ]
  },
  {
   "cell_type": "code",
   "execution_count": 171,
   "metadata": {},
   "outputs": [
    {
     "data": {
      "image/png": "[encoded data removed]",
      "text/plain": [
       "<Figure size 288x288 with 1 Axes>"
      ]
     },
     "metadata": {
      "needs_background": "light"
     },
     "output_type": "display_data"
    }
   ],
   "source": [
    "#remove http/s\n",
    "target_cnt = Counter(mixed.target)\n",
    "plt.figure(figsize=(4,4))\n",
    "plt.title(\"Target Frequency\") \n",
    "plt.ylabel(\"Number of Tweets\") \n",
    "LABELS = [\"Techno-Stress\", \"neutral\", \"positive\"]\n",
    "plt.xticks([0,2,4], LABELS)\n",
    "plt.bar(target_cnt.keys(), target_cnt.values(),align='center')\n",
    "plt.show()"
   ]
  },
  {
   "cell_type": "code",
   "execution_count": 53,
   "metadata": {},
   "outputs": [],
   "source": [
    "#remove stopwords // can be done in the Vectorizer => not done here\n",
    "#from sklearn.feature_extraction import stop_words\n",
    "#print(stop_words.ENGLISH_STOP_WORDS)"
   ]
  },
  {
   "cell_type": "code",
   "execution_count": 179,
   "metadata": {},
   "outputs": [
    {
     "data": {
      "text/html": [
       "<div>\n",
       "<style scoped>\n",
       "    .dataframe tbody tr th:only-of-type {\n",
       "        vertical-align: middle;\n",
       "    }\n",
       "\n",
       "    .dataframe tbody tr th {\n",
       "        vertical-align: top;\n",
       "    }\n",
       "\n",
       "    .dataframe thead th {\n",
       "        text-align: right;\n",
       "    }\n",
       "</style>\n",
       "<table border=\"1\" class=\"dataframe\">\n",
       "  <thead>\n",
       "    <tr style=\"text-align: right;\">\n",
       "      <th></th>\n",
       "      <th>target</th>\n",
       "      <th>text</th>\n",
       "    </tr>\n",
       "  </thead>\n",
       "  <tbody>\n",
       "    <tr>\n",
       "      <th>1181</th>\n",
       "      <td>4</td>\n",
       "      <td>Thanks for the recent follow Happy to connect ...</td>\n",
       "    </tr>\n",
       "    <tr>\n",
       "      <th>1182</th>\n",
       "      <td>4</td>\n",
       "      <td>- top engaged members this week happy</td>\n",
       "    </tr>\n",
       "    <tr>\n",
       "      <th>1183</th>\n",
       "      <td>4</td>\n",
       "      <td>ngam to  weeks left for cadet pilot exam cryin...</td>\n",
       "    </tr>\n",
       "    <tr>\n",
       "      <th>1184</th>\n",
       "      <td>4</td>\n",
       "      <td>Great! You're welcome Josh happy  ^Adam</td>\n",
       "    </tr>\n",
       "    <tr>\n",
       "      <th>1185</th>\n",
       "      <td>4</td>\n",
       "      <td>Sixth spot not applicable Team! Higher pa! :)K...</td>\n",
       "    </tr>\n",
       "  </tbody>\n",
       "</table>\n",
       "</div>"
      ],
      "text/plain": [
       "      target                                               text\n",
       "1181       4  Thanks for the recent follow Happy to connect ...\n",
       "1182       4              - top engaged members this week happy\n",
       "1183       4  ngam to  weeks left for cadet pilot exam cryin...\n",
       "1184       4            Great! You're welcome Josh happy  ^Adam\n",
       "1185       4  Sixth spot not applicable Team! Higher pa! :)K..."
      ]
     },
     "execution_count": 179,
     "metadata": {},
     "output_type": "execute_result"
    }
   ],
   "source": [
    "mixed.tail(5)"
   ]
  },
  {
   "cell_type": "markdown",
   "metadata": {},
   "source": [
    "### Save the data to CSV"
   ]
  },
  {
   "cell_type": "code",
   "execution_count": 174,
   "metadata": {},
   "outputs": [
    {
     "name": "stdout",
     "output_type": "stream",
     "text": [
      "target    False\n",
      "text      False\n",
      "dtype: bool\n"
     ]
    }
   ],
   "source": [
    "print(pd.isna(mixed).all())"
   ]
  },
  {
   "cell_type": "code",
   "execution_count": 166,
   "metadata": {},
   "outputs": [],
   "source": [
    "#does not overwrite\n",
    "mixed.to_csv(\"data/mixed_data_1200.csv\", sep=';')"
   ]
  }
 ],
 "metadata": {
  "kernelspec": {
   "display_name": "Python 3",
   "language": "python",
   "name": "python3"
  },
  "language_info": {
   "codemirror_mode": {
    "name": "ipython",
    "version": 3
   },
   "file_extension": ".py",
   "mimetype": "text/x-python",
   "name": "python",
   "nbconvert_exporter": "python",
   "pygments_lexer": "ipython3",
   "version": "3.7.1"
  }
 },
 "nbformat": 4,
 "nbformat_minor": 2
}
